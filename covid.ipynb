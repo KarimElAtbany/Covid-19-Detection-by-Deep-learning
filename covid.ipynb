{
  "nbformat": 4,
  "nbformat_minor": 0,
  "metadata": {
    "colab": {
      "name": "covid.ipynb",
      "provenance": [],
      "collapsed_sections": [],
      "mount_file_id": "1o5UNeVCkEVtGStg8GSv6Ya7SHZRiaH6p",
      "authorship_tag": "ABX9TyNhAQ+2NEmq+SvPqyGT/OBV",
      "include_colab_link": true
    },
    "kernelspec": {
      "name": "python3",
      "display_name": "Python 3"
    },
    "language_info": {
      "name": "python"
    },
    "accelerator": "GPU",
    "gpuClass": "standard"
  },
  "cells": [
    {
      "cell_type": "markdown",
      "metadata": {
        "id": "view-in-github",
        "colab_type": "text"
      },
      "source": [
        "<a href=\"https://colab.research.google.com/github/KarimElAtbany/Covid-19-Detection-by-Deep-learning/blob/main/covid.ipynb\" target=\"_parent\"><img src=\"https://colab.research.google.com/assets/colab-badge.svg\" alt=\"Open In Colab\"/></a>"
      ]
    },
    {
      "cell_type": "code",
      "execution_count": null,
      "metadata": {
        "colab": {
          "resources": {
            "http://localhost:8080/nbextensions/google.colab/files.js": {
              "data": "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",
              "ok": true,
              "headers": [
                [
                  "content-type",
                  "application/javascript"
                ]
              ],
              "status": 200,
              "status_text": ""
            }
          },
          "base_uri": "https://localhost:8080/",
          "height": 93
        },
        "id": "Ay57H4qHE44i",
        "outputId": "76fa368b-e2d9-4536-f3bb-9b7a6cc2ea7a"
      },
      "outputs": [
        {
          "output_type": "display_data",
          "data": {
            "text/plain": [
              "<IPython.core.display.HTML object>"
            ],
            "text/html": [
              "\n",
              "     <input type=\"file\" id=\"files-2e4e9eda-2fd8-4e74-85c7-ee9fd9353850\" name=\"files[]\" multiple disabled\n",
              "        style=\"border:none\" />\n",
              "     <output id=\"result-2e4e9eda-2fd8-4e74-85c7-ee9fd9353850\">\n",
              "      Upload widget is only available when the cell has been executed in the\n",
              "      current browser session. Please rerun this cell to enable.\n",
              "      </output>\n",
              "      <script src=\"/nbextensions/google.colab/files.js\"></script> "
            ]
          },
          "metadata": {}
        },
        {
          "output_type": "stream",
          "name": "stdout",
          "text": [
            "Saving kaggle.json to kaggle.json\n"
          ]
        },
        {
          "output_type": "execute_result",
          "data": {
            "text/plain": [
              "{'kaggle.json': b'{\"username\":\"karimnabel\",\"key\":\"f21ada9fa9499d67d1d0db1f5f1df91b\"}'}"
            ]
          },
          "metadata": {},
          "execution_count": 1
        }
      ],
      "source": [
        "from google.colab import files\n",
        "files.upload()\n"
      ]
    },
    {
      "cell_type": "markdown",
      "source": [
        "connect our lab to drive\n"
      ],
      "metadata": {
        "id": "slAEraHUXgBI"
      }
    },
    {
      "cell_type": "code",
      "source": [
        "from google.colab import drive"
      ],
      "metadata": {
        "id": "tWUseZT8FVAM"
      },
      "execution_count": null,
      "outputs": []
    },
    {
      "cell_type": "code",
      "source": [
        "drive.mount('/content/gdrive')"
      ],
      "metadata": {
        "colab": {
          "base_uri": "https://localhost:8080/"
        },
        "id": "tiCM33jHFVF7",
        "outputId": "9f1b028e-bb97-4c3b-92d7-a666806a59e0"
      },
      "execution_count": null,
      "outputs": [
        {
          "output_type": "stream",
          "name": "stdout",
          "text": [
            "Mounted at /content/gdrive\n"
          ]
        }
      ]
    },
    {
      "cell_type": "code",
      "source": [
        "import os \n",
        "os.environ['KAGGLE_CONFIG_DIR']='/content/gdrive/MyDrive/Colab Notebooks'"
      ],
      "metadata": {
        "id": "lqEdj4TDFVID"
      },
      "execution_count": null,
      "outputs": []
    },
    {
      "cell_type": "code",
      "source": [
        "%cd covid-19-xray-and-ct-scan-image-dataset.zip"
      ],
      "metadata": {
        "colab": {
          "base_uri": "https://localhost:8080/"
        },
        "id": "E-Yf9xNGFVKc",
        "outputId": "c3129e48-6586-4e43-83d1-ddd46271ba2b"
      },
      "execution_count": null,
      "outputs": [
        {
          "output_type": "stream",
          "name": "stdout",
          "text": [
            "[Errno 2] No such file or directory: 'covid-19-xray-and-ct-scan-image-dataset.zip'\n",
            "/content\n"
          ]
        }
      ]
    },
    {
      "cell_type": "code",
      "source": [
        "pip install split-folders"
      ],
      "metadata": {
        "id": "IOTZ1zmXvmnq",
        "colab": {
          "base_uri": "https://localhost:8080/"
        },
        "outputId": "3defeb2d-6a96-4584-ed17-dc30e42131bf"
      },
      "execution_count": null,
      "outputs": [
        {
          "output_type": "stream",
          "name": "stdout",
          "text": [
            "Collecting split-folders\n",
            "  Downloading split_folders-0.5.1-py3-none-any.whl (8.4 kB)\n",
            "Installing collected packages: split-folders\n",
            "Successfully installed split-folders-0.5.1\n"
          ]
        }
      ]
    },
    {
      "cell_type": "code",
      "source": [
        "pip install split-folders[full]"
      ],
      "metadata": {
        "id": "vKlOEP6qvnQx"
      },
      "execution_count": null,
      "outputs": []
    },
    {
      "cell_type": "code",
      "source": [
        "pip install chart-studio"
      ],
      "metadata": {
        "colab": {
          "base_uri": "https://localhost:8080/"
        },
        "id": "KA4KsyIBq2nz",
        "outputId": "cd3b5cfe-0dd2-4320-9ef8-a145294d573f"
      },
      "execution_count": null,
      "outputs": [
        {
          "output_type": "stream",
          "name": "stdout",
          "text": [
            "Looking in indexes: https://pypi.org/simple, https://us-python.pkg.dev/colab-wheels/public/simple/\n",
            "Requirement already satisfied: chart-studio in /usr/local/lib/python3.7/dist-packages (1.1.0)\n",
            "Requirement already satisfied: plotly in /usr/local/lib/python3.7/dist-packages (from chart-studio) (5.5.0)\n",
            "Requirement already satisfied: requests in /usr/local/lib/python3.7/dist-packages (from chart-studio) (2.23.0)\n",
            "Requirement already satisfied: six in /usr/local/lib/python3.7/dist-packages (from chart-studio) (1.15.0)\n",
            "Requirement already satisfied: retrying>=1.3.3 in /usr/local/lib/python3.7/dist-packages (from chart-studio) (1.3.3)\n",
            "Requirement already satisfied: tenacity>=6.2.0 in /usr/local/lib/python3.7/dist-packages (from plotly->chart-studio) (8.0.1)\n",
            "Requirement already satisfied: idna<3,>=2.5 in /usr/local/lib/python3.7/dist-packages (from requests->chart-studio) (2.10)\n",
            "Requirement already satisfied: urllib3!=1.25.0,!=1.25.1,<1.26,>=1.21.1 in /usr/local/lib/python3.7/dist-packages (from requests->chart-studio) (1.24.3)\n",
            "Requirement already satisfied: chardet<4,>=3.0.2 in /usr/local/lib/python3.7/dist-packages (from requests->chart-studio) (3.0.4)\n",
            "Requirement already satisfied: certifi>=2017.4.17 in /usr/local/lib/python3.7/dist-packages (from requests->chart-studio) (2022.6.15)\n"
          ]
        }
      ]
    },
    {
      "cell_type": "markdown",
      "source": [
        "import laibraies that will we use\n"
      ],
      "metadata": {
        "id": "oMCH6ISFX1Hs"
      }
    },
    {
      "cell_type": "code",
      "source": [
        "import numpy as np \n",
        "import pandas as pd\n",
        "import matplotlib.pyplot as plt\n",
        "import glob as gb\n",
        "import tensorflow as tf\n",
        "import keras \n",
        "import cv2\n",
        "import sklearn.metrics as metrics\n",
        "from tqdm.auto import tqdm\n",
        "import pickle\n",
        "from tensorflow.keras.callbacks import ModelCheckpoint\n",
        "from tensorflow.keras.callbacks import EarlyStopping\n",
        "from keras.applications.densenet import preprocess_input as preprocess_input_densenet\n",
        "from tensorflow.keras.layers.experimental.preprocessing import Rescaling\n",
        "import tensorflow_hub as hub\n",
        "from tensorflow.keras.callbacks import ModelCheckpoint\n",
        "from tensorflow.keras.callbacks import EarlyStopping\n",
        "from keras.layers import Input, Dense, BatchNormalization, GlobalAveragePooling2D, Dropout\n",
        "from keras.models import Model\n",
        "from tensorflow.keras.optimizers import Adam\n",
        "import chart_studio.plotly as py\n",
        "import plotly.graph_objs as go\n",
        "from plotly.offline import iplot\n",
        "import tensorflow_hub as hub\n",
        "from keras.models import load_model\n",
        "from keras.preprocessing import image\n"
      ],
      "metadata": {
        "id": "RKfD28_VFVNH"
      },
      "execution_count": null,
      "outputs": []
    },
    {
      "cell_type": "markdown",
      "source": [
        "get pathes of train and valid\n",
        "Dataset is organized into 2 folders (train, validation) and both contain 2 subfolders (COVID19,NORMAL) one for each class. DataSet contains x-ray images and test data have 20% of total images. As a start, it is very important to inspect the data across the two\n",
        " classes:"
      ],
      "metadata": {
        "id": "1CDuiSaQZNWM"
      }
    },
    {
      "cell_type": "code",
      "source": [
        "#get pathes for train \n",
        "tr_covid='/content/gdrive/MyDrive/Colab Notebooks/COVID-19 Dataset/pr/train/COVID'\n",
        "tr_non_covid='/content/gdrive/MyDrive/Colab Notebooks/COVID-19 Dataset/pr/train/Non-COVID'\n",
        "#get pathes for valid\n",
        "val_covid='/content/gdrive/MyDrive/Colab Notebooks/COVID-19 Dataset/pr/val/COVID'\n",
        "val_non_covid='/content/gdrive/MyDrive/Colab Notebooks/COVID-19 Dataset/pr/val/Non-COVID'"
      ],
      "metadata": {
        "id": "SpeifWXAvq9m"
      },
      "execution_count": null,
      "outputs": []
    },
    {
      "cell_type": "code",
      "source": [
        "print(f'the number of images in train covid is {len(os.listdir(tr_covid))} \\nthe number of train non covid is {len(os.listdir(tr_non_covid))}')\n",
        "print(f'the number of images in valid covid is {len(os.listdir(val_covid))} \\nthe number of valid non covid is {len(os.listdir(val_non_covid))}')"
      ],
      "metadata": {
        "colab": {
          "base_uri": "https://localhost:8080/"
        },
        "id": "aqnuM2WrFVS9",
        "outputId": "63595ffb-2922-4941-e107-887bed2ef957"
      },
      "execution_count": null,
      "outputs": [
        {
          "output_type": "stream",
          "name": "stdout",
          "text": [
            "the number of images in train covid is 2817 \n",
            "the number of train non covid is 3679\n",
            "the number of images in valid covid is 805 \n",
            "the number of valid non covid is 1051\n"
          ]
        }
      ]
    },
    {
      "cell_type": "code",
      "source": [
        "tr=len(os.listdir(tr_covid))+len(os.listdir(tr_non_covid))\n",
        "val=len(os.listdir(val_covid))+len(os.listdir(val_non_covid))\n",
        "print(tr,val)"
      ],
      "metadata": {
        "colab": {
          "base_uri": "https://localhost:8080/"
        },
        "id": "VIhP9YYD5x-t",
        "outputId": "c05504dc-6ccd-433c-a9ba-2988f7e6d2a4"
      },
      "execution_count": null,
      "outputs": [
        {
          "output_type": "stream",
          "name": "stdout",
          "text": [
            "6496 1856\n"
          ]
        }
      ]
    },
    {
      "cell_type": "code",
      "source": [
        "all_normal=len(os.listdir(tr_covid))+len(os.listdir(val_covid))\n",
        "print(all_normal)\n",
        "all_pneumonia=len(os.listdir(tr_non_covid))+len(os.listdir(val_non_covid))\n",
        "print(all_pneumonia)\n",
        "\n"
      ],
      "metadata": {
        "colab": {
          "base_uri": "https://localhost:8080/"
        },
        "id": "tmyIh-0_pCs7",
        "outputId": "7e131ffc-3650-4fb5-cfae-46d37c405cbf"
      },
      "execution_count": null,
      "outputs": [
        {
          "output_type": "stream",
          "name": "stdout",
          "text": [
            "3622\n",
            "4730\n"
          ]
        }
      ]
    },
    {
      "cell_type": "code",
      "source": [
        "labels = [\"Normal\",'Pneumonia ']\n",
        "values = [(all_normal),(all_pneumonia)]\n",
        "colors = ['sky', 'red']\n",
        "fig = go.Figure(data=[go.Pie(labels=labels,\n",
        "                             values=values,hole=.5)])\n",
        "fig.update_traces(hoverinfo='value', textinfo='label+percent', textfont_size=20,\n",
        "                  marker=dict(colors=colors, line=dict(color='#000000', width=3)))\n",
        "fig.update_layout(title=\"Image Category Distribution\",\n",
        "                  titlefont={'size': 30},      \n",
        "                  )\n",
        "iplot(fig)"
      ],
      "metadata": {
        "colab": {
          "base_uri": "https://localhost:8080/",
          "height": 542
        },
        "id": "XGuaE65So5vr",
        "outputId": "2fb501a7-c4ae-4f5b-9d65-5f8ec28d3eeb"
      },
      "execution_count": null,
      "outputs": [
        {
          "output_type": "display_data",
          "data": {
            "text/html": [
              "<html>\n",
              "<head><meta charset=\"utf-8\" /></head>\n",
              "<body>\n",
              "    <div>            <script src=\"https://cdnjs.cloudflare.com/ajax/libs/mathjax/2.7.5/MathJax.js?config=TeX-AMS-MML_SVG\"></script><script type=\"text/javascript\">if (window.MathJax) {MathJax.Hub.Config({SVG: {font: \"STIX-Web\"}});}</script>                <script type=\"text/javascript\">window.PlotlyConfig = {MathJaxConfig: 'local'};</script>\n",
              "        <script src=\"https://cdn.plot.ly/plotly-2.8.3.min.js\"></script>                <div id=\"f1ccfae8-3379-4a50-94d1-764d9189b4e4\" class=\"plotly-graph-div\" style=\"height:525px; width:100%;\"></div>            <script type=\"text/javascript\">                                    window.PLOTLYENV=window.PLOTLYENV || {};                                    if (document.getElementById(\"f1ccfae8-3379-4a50-94d1-764d9189b4e4\")) {                    Plotly.newPlot(                        \"f1ccfae8-3379-4a50-94d1-764d9189b4e4\",                        [{\"hole\":0.5,\"hoverinfo\":\"value\",\"labels\":[\"Normal\",\"Pneumonia \"],\"marker\":{\"colors\":[\"sky\",\"red\"],\"line\":{\"color\":\"#000000\",\"width\":3}},\"textfont\":{\"size\":20},\"textinfo\":\"label+percent\",\"values\":[3622,4730],\"type\":\"pie\"}],                        {\"template\":{\"data\":{\"barpolar\":[{\"marker\":{\"line\":{\"color\":\"#E5ECF6\",\"width\":0.5},\"pattern\":{\"fillmode\":\"overlay\",\"size\":10,\"solidity\":0.2}},\"type\":\"barpolar\"}],\"bar\":[{\"error_x\":{\"color\":\"#2a3f5f\"},\"error_y\":{\"color\":\"#2a3f5f\"},\"marker\":{\"line\":{\"color\":\"#E5ECF6\",\"width\":0.5},\"pattern\":{\"fillmode\":\"overlay\",\"size\":10,\"solidity\":0.2}},\"type\":\"bar\"}],\"carpet\":[{\"aaxis\":{\"endlinecolor\":\"#2a3f5f\",\"gridcolor\":\"white\",\"linecolor\":\"white\",\"minorgridcolor\":\"white\",\"startlinecolor\":\"#2a3f5f\"},\"baxis\":{\"endlinecolor\":\"#2a3f5f\",\"gridcolor\":\"white\",\"linecolor\":\"white\",\"minorgridcolor\":\"white\",\"startlinecolor\":\"#2a3f5f\"},\"type\":\"carpet\"}],\"choropleth\":[{\"colorbar\":{\"outlinewidth\":0,\"ticks\":\"\"},\"type\":\"choropleth\"}],\"contourcarpet\":[{\"colorbar\":{\"outlinewidth\":0,\"ticks\":\"\"},\"type\":\"contourcarpet\"}],\"contour\":[{\"colorbar\":{\"outlinewidth\":0,\"ticks\":\"\"},\"colorscale\":[[0.0,\"#0d0887\"],[0.1111111111111111,\"#46039f\"],[0.2222222222222222,\"#7201a8\"],[0.3333333333333333,\"#9c179e\"],[0.4444444444444444,\"#bd3786\"],[0.5555555555555556,\"#d8576b\"],[0.6666666666666666,\"#ed7953\"],[0.7777777777777778,\"#fb9f3a\"],[0.8888888888888888,\"#fdca26\"],[1.0,\"#f0f921\"]],\"type\":\"contour\"}],\"heatmapgl\":[{\"colorbar\":{\"outlinewidth\":0,\"ticks\":\"\"},\"colorscale\":[[0.0,\"#0d0887\"],[0.1111111111111111,\"#46039f\"],[0.2222222222222222,\"#7201a8\"],[0.3333333333333333,\"#9c179e\"],[0.4444444444444444,\"#bd3786\"],[0.5555555555555556,\"#d8576b\"],[0.6666666666666666,\"#ed7953\"],[0.7777777777777778,\"#fb9f3a\"],[0.8888888888888888,\"#fdca26\"],[1.0,\"#f0f921\"]],\"type\":\"heatmapgl\"}],\"heatmap\":[{\"colorbar\":{\"outlinewidth\":0,\"ticks\":\"\"},\"colorscale\":[[0.0,\"#0d0887\"],[0.1111111111111111,\"#46039f\"],[0.2222222222222222,\"#7201a8\"],[0.3333333333333333,\"#9c179e\"],[0.4444444444444444,\"#bd3786\"],[0.5555555555555556,\"#d8576b\"],[0.6666666666666666,\"#ed7953\"],[0.7777777777777778,\"#fb9f3a\"],[0.8888888888888888,\"#fdca26\"],[1.0,\"#f0f921\"]],\"type\":\"heatmap\"}],\"histogram2dcontour\":[{\"colorbar\":{\"outlinewidth\":0,\"ticks\":\"\"},\"colorscale\":[[0.0,\"#0d0887\"],[0.1111111111111111,\"#46039f\"],[0.2222222222222222,\"#7201a8\"],[0.3333333333333333,\"#9c179e\"],[0.4444444444444444,\"#bd3786\"],[0.5555555555555556,\"#d8576b\"],[0.6666666666666666,\"#ed7953\"],[0.7777777777777778,\"#fb9f3a\"],[0.8888888888888888,\"#fdca26\"],[1.0,\"#f0f921\"]],\"type\":\"histogram2dcontour\"}],\"histogram2d\":[{\"colorbar\":{\"outlinewidth\":0,\"ticks\":\"\"},\"colorscale\":[[0.0,\"#0d0887\"],[0.1111111111111111,\"#46039f\"],[0.2222222222222222,\"#7201a8\"],[0.3333333333333333,\"#9c179e\"],[0.4444444444444444,\"#bd3786\"],[0.5555555555555556,\"#d8576b\"],[0.6666666666666666,\"#ed7953\"],[0.7777777777777778,\"#fb9f3a\"],[0.8888888888888888,\"#fdca26\"],[1.0,\"#f0f921\"]],\"type\":\"histogram2d\"}],\"histogram\":[{\"marker\":{\"pattern\":{\"fillmode\":\"overlay\",\"size\":10,\"solidity\":0.2}},\"type\":\"histogram\"}],\"mesh3d\":[{\"colorbar\":{\"outlinewidth\":0,\"ticks\":\"\"},\"type\":\"mesh3d\"}],\"parcoords\":[{\"line\":{\"colorbar\":{\"outlinewidth\":0,\"ticks\":\"\"}},\"type\":\"parcoords\"}],\"pie\":[{\"automargin\":true,\"type\":\"pie\"}],\"scatter3d\":[{\"line\":{\"colorbar\":{\"outlinewidth\":0,\"ticks\":\"\"}},\"marker\":{\"colorbar\":{\"outlinewidth\":0,\"ticks\":\"\"}},\"type\":\"scatter3d\"}],\"scattercarpet\":[{\"marker\":{\"colorbar\":{\"outlinewidth\":0,\"ticks\":\"\"}},\"type\":\"scattercarpet\"}],\"scattergeo\":[{\"marker\":{\"colorbar\":{\"outlinewidth\":0,\"ticks\":\"\"}},\"type\":\"scattergeo\"}],\"scattergl\":[{\"marker\":{\"colorbar\":{\"outlinewidth\":0,\"ticks\":\"\"}},\"type\":\"scattergl\"}],\"scattermapbox\":[{\"marker\":{\"colorbar\":{\"outlinewidth\":0,\"ticks\":\"\"}},\"type\":\"scattermapbox\"}],\"scatterpolargl\":[{\"marker\":{\"colorbar\":{\"outlinewidth\":0,\"ticks\":\"\"}},\"type\":\"scatterpolargl\"}],\"scatterpolar\":[{\"marker\":{\"colorbar\":{\"outlinewidth\":0,\"ticks\":\"\"}},\"type\":\"scatterpolar\"}],\"scatter\":[{\"marker\":{\"colorbar\":{\"outlinewidth\":0,\"ticks\":\"\"}},\"type\":\"scatter\"}],\"scatterternary\":[{\"marker\":{\"colorbar\":{\"outlinewidth\":0,\"ticks\":\"\"}},\"type\":\"scatterternary\"}],\"surface\":[{\"colorbar\":{\"outlinewidth\":0,\"ticks\":\"\"},\"colorscale\":[[0.0,\"#0d0887\"],[0.1111111111111111,\"#46039f\"],[0.2222222222222222,\"#7201a8\"],[0.3333333333333333,\"#9c179e\"],[0.4444444444444444,\"#bd3786\"],[0.5555555555555556,\"#d8576b\"],[0.6666666666666666,\"#ed7953\"],[0.7777777777777778,\"#fb9f3a\"],[0.8888888888888888,\"#fdca26\"],[1.0,\"#f0f921\"]],\"type\":\"surface\"}],\"table\":[{\"cells\":{\"fill\":{\"color\":\"#EBF0F8\"},\"line\":{\"color\":\"white\"}},\"header\":{\"fill\":{\"color\":\"#C8D4E3\"},\"line\":{\"color\":\"white\"}},\"type\":\"table\"}]},\"layout\":{\"annotationdefaults\":{\"arrowcolor\":\"#2a3f5f\",\"arrowhead\":0,\"arrowwidth\":1},\"autotypenumbers\":\"strict\",\"coloraxis\":{\"colorbar\":{\"outlinewidth\":0,\"ticks\":\"\"}},\"colorscale\":{\"diverging\":[[0,\"#8e0152\"],[0.1,\"#c51b7d\"],[0.2,\"#de77ae\"],[0.3,\"#f1b6da\"],[0.4,\"#fde0ef\"],[0.5,\"#f7f7f7\"],[0.6,\"#e6f5d0\"],[0.7,\"#b8e186\"],[0.8,\"#7fbc41\"],[0.9,\"#4d9221\"],[1,\"#276419\"]],\"sequential\":[[0.0,\"#0d0887\"],[0.1111111111111111,\"#46039f\"],[0.2222222222222222,\"#7201a8\"],[0.3333333333333333,\"#9c179e\"],[0.4444444444444444,\"#bd3786\"],[0.5555555555555556,\"#d8576b\"],[0.6666666666666666,\"#ed7953\"],[0.7777777777777778,\"#fb9f3a\"],[0.8888888888888888,\"#fdca26\"],[1.0,\"#f0f921\"]],\"sequentialminus\":[[0.0,\"#0d0887\"],[0.1111111111111111,\"#46039f\"],[0.2222222222222222,\"#7201a8\"],[0.3333333333333333,\"#9c179e\"],[0.4444444444444444,\"#bd3786\"],[0.5555555555555556,\"#d8576b\"],[0.6666666666666666,\"#ed7953\"],[0.7777777777777778,\"#fb9f3a\"],[0.8888888888888888,\"#fdca26\"],[1.0,\"#f0f921\"]]},\"colorway\":[\"#636efa\",\"#EF553B\",\"#00cc96\",\"#ab63fa\",\"#FFA15A\",\"#19d3f3\",\"#FF6692\",\"#B6E880\",\"#FF97FF\",\"#FECB52\"],\"font\":{\"color\":\"#2a3f5f\"},\"geo\":{\"bgcolor\":\"white\",\"lakecolor\":\"white\",\"landcolor\":\"#E5ECF6\",\"showlakes\":true,\"showland\":true,\"subunitcolor\":\"white\"},\"hoverlabel\":{\"align\":\"left\"},\"hovermode\":\"closest\",\"mapbox\":{\"style\":\"light\"},\"paper_bgcolor\":\"white\",\"plot_bgcolor\":\"#E5ECF6\",\"polar\":{\"angularaxis\":{\"gridcolor\":\"white\",\"linecolor\":\"white\",\"ticks\":\"\"},\"bgcolor\":\"#E5ECF6\",\"radialaxis\":{\"gridcolor\":\"white\",\"linecolor\":\"white\",\"ticks\":\"\"}},\"scene\":{\"xaxis\":{\"backgroundcolor\":\"#E5ECF6\",\"gridcolor\":\"white\",\"gridwidth\":2,\"linecolor\":\"white\",\"showbackground\":true,\"ticks\":\"\",\"zerolinecolor\":\"white\"},\"yaxis\":{\"backgroundcolor\":\"#E5ECF6\",\"gridcolor\":\"white\",\"gridwidth\":2,\"linecolor\":\"white\",\"showbackground\":true,\"ticks\":\"\",\"zerolinecolor\":\"white\"},\"zaxis\":{\"backgroundcolor\":\"#E5ECF6\",\"gridcolor\":\"white\",\"gridwidth\":2,\"linecolor\":\"white\",\"showbackground\":true,\"ticks\":\"\",\"zerolinecolor\":\"white\"}},\"shapedefaults\":{\"line\":{\"color\":\"#2a3f5f\"}},\"ternary\":{\"aaxis\":{\"gridcolor\":\"white\",\"linecolor\":\"white\",\"ticks\":\"\"},\"baxis\":{\"gridcolor\":\"white\",\"linecolor\":\"white\",\"ticks\":\"\"},\"bgcolor\":\"#E5ECF6\",\"caxis\":{\"gridcolor\":\"white\",\"linecolor\":\"white\",\"ticks\":\"\"}},\"title\":{\"x\":0.05},\"xaxis\":{\"automargin\":true,\"gridcolor\":\"white\",\"linecolor\":\"white\",\"ticks\":\"\",\"title\":{\"standoff\":15},\"zerolinecolor\":\"white\",\"zerolinewidth\":2},\"yaxis\":{\"automargin\":true,\"gridcolor\":\"white\",\"linecolor\":\"white\",\"ticks\":\"\",\"title\":{\"standoff\":15},\"zerolinecolor\":\"white\",\"zerolinewidth\":2}}},\"title\":{\"font\":{\"size\":30},\"text\":\"Image Category Distribution\"}},                        {\"responsive\": true}                    ).then(function(){\n",
              "                            \n",
              "var gd = document.getElementById('f1ccfae8-3379-4a50-94d1-764d9189b4e4');\n",
              "var x = new MutationObserver(function (mutations, observer) {{\n",
              "        var display = window.getComputedStyle(gd).display;\n",
              "        if (!display || display === 'none') {{\n",
              "            console.log([gd, 'removed!']);\n",
              "            Plotly.purge(gd);\n",
              "            observer.disconnect();\n",
              "        }}\n",
              "}});\n",
              "\n",
              "// Listen for the removal of the full notebook cells\n",
              "var notebookContainer = gd.closest('#notebook-container');\n",
              "if (notebookContainer) {{\n",
              "    x.observe(notebookContainer, {childList: true});\n",
              "}}\n",
              "\n",
              "// Listen for the clearing of the current output cell\n",
              "var outputEl = gd.closest('.output');\n",
              "if (outputEl) {{\n",
              "    x.observe(outputEl, {childList: true});\n",
              "}}\n",
              "\n",
              "                        })                };                            </script>        </div>\n",
              "</body>\n",
              "</html>"
            ]
          },
          "metadata": {}
        }
      ]
    },
    {
      "cell_type": "code",
      "source": [
        "labels = [\"Train\",'Test ']\n",
        "values = [(80),(20)]\n",
        "colors = ['green', 'sky']\n",
        "fig = go.Figure(data=[go.Pie(labels=labels,\n",
        "                             values=values,hole=.5)])\n",
        "fig.update_traces(hoverinfo='value', textinfo='label+percent', textfont_size=20,\n",
        "                  marker=dict(colors=colors, line=dict(color='#000000', width=3)))\n",
        "fig.update_layout(title=\"Data Split\",\n",
        "                  titlefont={'size': 30},      \n",
        "                  )\n",
        "iplot(fig)"
      ],
      "metadata": {
        "colab": {
          "base_uri": "https://localhost:8080/",
          "height": 542
        },
        "id": "JTKLSCHT5r7H",
        "outputId": "d93e720c-88a1-455f-eec3-082c4c7205bd"
      },
      "execution_count": null,
      "outputs": [
        {
          "output_type": "display_data",
          "data": {
            "text/html": [
              "<html>\n",
              "<head><meta charset=\"utf-8\" /></head>\n",
              "<body>\n",
              "    <div>            <script src=\"https://cdnjs.cloudflare.com/ajax/libs/mathjax/2.7.5/MathJax.js?config=TeX-AMS-MML_SVG\"></script><script type=\"text/javascript\">if (window.MathJax) {MathJax.Hub.Config({SVG: {font: \"STIX-Web\"}});}</script>                <script type=\"text/javascript\">window.PlotlyConfig = {MathJaxConfig: 'local'};</script>\n",
              "        <script src=\"https://cdn.plot.ly/plotly-2.8.3.min.js\"></script>                <div id=\"130e7d44-31f0-429b-943b-72474916bc35\" class=\"plotly-graph-div\" style=\"height:525px; width:100%;\"></div>            <script type=\"text/javascript\">                                    window.PLOTLYENV=window.PLOTLYENV || {};                                    if (document.getElementById(\"130e7d44-31f0-429b-943b-72474916bc35\")) {                    Plotly.newPlot(                        \"130e7d44-31f0-429b-943b-72474916bc35\",                        [{\"hole\":0.5,\"hoverinfo\":\"value\",\"labels\":[\"Train\",\"Test \"],\"marker\":{\"colors\":[\"green\",\"sky\"],\"line\":{\"color\":\"#000000\",\"width\":3}},\"textfont\":{\"size\":20},\"textinfo\":\"label+percent\",\"values\":[80,20],\"type\":\"pie\"}],                        {\"template\":{\"data\":{\"barpolar\":[{\"marker\":{\"line\":{\"color\":\"#E5ECF6\",\"width\":0.5},\"pattern\":{\"fillmode\":\"overlay\",\"size\":10,\"solidity\":0.2}},\"type\":\"barpolar\"}],\"bar\":[{\"error_x\":{\"color\":\"#2a3f5f\"},\"error_y\":{\"color\":\"#2a3f5f\"},\"marker\":{\"line\":{\"color\":\"#E5ECF6\",\"width\":0.5},\"pattern\":{\"fillmode\":\"overlay\",\"size\":10,\"solidity\":0.2}},\"type\":\"bar\"}],\"carpet\":[{\"aaxis\":{\"endlinecolor\":\"#2a3f5f\",\"gridcolor\":\"white\",\"linecolor\":\"white\",\"minorgridcolor\":\"white\",\"startlinecolor\":\"#2a3f5f\"},\"baxis\":{\"endlinecolor\":\"#2a3f5f\",\"gridcolor\":\"white\",\"linecolor\":\"white\",\"minorgridcolor\":\"white\",\"startlinecolor\":\"#2a3f5f\"},\"type\":\"carpet\"}],\"choropleth\":[{\"colorbar\":{\"outlinewidth\":0,\"ticks\":\"\"},\"type\":\"choropleth\"}],\"contourcarpet\":[{\"colorbar\":{\"outlinewidth\":0,\"ticks\":\"\"},\"type\":\"contourcarpet\"}],\"contour\":[{\"colorbar\":{\"outlinewidth\":0,\"ticks\":\"\"},\"colorscale\":[[0.0,\"#0d0887\"],[0.1111111111111111,\"#46039f\"],[0.2222222222222222,\"#7201a8\"],[0.3333333333333333,\"#9c179e\"],[0.4444444444444444,\"#bd3786\"],[0.5555555555555556,\"#d8576b\"],[0.6666666666666666,\"#ed7953\"],[0.7777777777777778,\"#fb9f3a\"],[0.8888888888888888,\"#fdca26\"],[1.0,\"#f0f921\"]],\"type\":\"contour\"}],\"heatmapgl\":[{\"colorbar\":{\"outlinewidth\":0,\"ticks\":\"\"},\"colorscale\":[[0.0,\"#0d0887\"],[0.1111111111111111,\"#46039f\"],[0.2222222222222222,\"#7201a8\"],[0.3333333333333333,\"#9c179e\"],[0.4444444444444444,\"#bd3786\"],[0.5555555555555556,\"#d8576b\"],[0.6666666666666666,\"#ed7953\"],[0.7777777777777778,\"#fb9f3a\"],[0.8888888888888888,\"#fdca26\"],[1.0,\"#f0f921\"]],\"type\":\"heatmapgl\"}],\"heatmap\":[{\"colorbar\":{\"outlinewidth\":0,\"ticks\":\"\"},\"colorscale\":[[0.0,\"#0d0887\"],[0.1111111111111111,\"#46039f\"],[0.2222222222222222,\"#7201a8\"],[0.3333333333333333,\"#9c179e\"],[0.4444444444444444,\"#bd3786\"],[0.5555555555555556,\"#d8576b\"],[0.6666666666666666,\"#ed7953\"],[0.7777777777777778,\"#fb9f3a\"],[0.8888888888888888,\"#fdca26\"],[1.0,\"#f0f921\"]],\"type\":\"heatmap\"}],\"histogram2dcontour\":[{\"colorbar\":{\"outlinewidth\":0,\"ticks\":\"\"},\"colorscale\":[[0.0,\"#0d0887\"],[0.1111111111111111,\"#46039f\"],[0.2222222222222222,\"#7201a8\"],[0.3333333333333333,\"#9c179e\"],[0.4444444444444444,\"#bd3786\"],[0.5555555555555556,\"#d8576b\"],[0.6666666666666666,\"#ed7953\"],[0.7777777777777778,\"#fb9f3a\"],[0.8888888888888888,\"#fdca26\"],[1.0,\"#f0f921\"]],\"type\":\"histogram2dcontour\"}],\"histogram2d\":[{\"colorbar\":{\"outlinewidth\":0,\"ticks\":\"\"},\"colorscale\":[[0.0,\"#0d0887\"],[0.1111111111111111,\"#46039f\"],[0.2222222222222222,\"#7201a8\"],[0.3333333333333333,\"#9c179e\"],[0.4444444444444444,\"#bd3786\"],[0.5555555555555556,\"#d8576b\"],[0.6666666666666666,\"#ed7953\"],[0.7777777777777778,\"#fb9f3a\"],[0.8888888888888888,\"#fdca26\"],[1.0,\"#f0f921\"]],\"type\":\"histogram2d\"}],\"histogram\":[{\"marker\":{\"pattern\":{\"fillmode\":\"overlay\",\"size\":10,\"solidity\":0.2}},\"type\":\"histogram\"}],\"mesh3d\":[{\"colorbar\":{\"outlinewidth\":0,\"ticks\":\"\"},\"type\":\"mesh3d\"}],\"parcoords\":[{\"line\":{\"colorbar\":{\"outlinewidth\":0,\"ticks\":\"\"}},\"type\":\"parcoords\"}],\"pie\":[{\"automargin\":true,\"type\":\"pie\"}],\"scatter3d\":[{\"line\":{\"colorbar\":{\"outlinewidth\":0,\"ticks\":\"\"}},\"marker\":{\"colorbar\":{\"outlinewidth\":0,\"ticks\":\"\"}},\"type\":\"scatter3d\"}],\"scattercarpet\":[{\"marker\":{\"colorbar\":{\"outlinewidth\":0,\"ticks\":\"\"}},\"type\":\"scattercarpet\"}],\"scattergeo\":[{\"marker\":{\"colorbar\":{\"outlinewidth\":0,\"ticks\":\"\"}},\"type\":\"scattergeo\"}],\"scattergl\":[{\"marker\":{\"colorbar\":{\"outlinewidth\":0,\"ticks\":\"\"}},\"type\":\"scattergl\"}],\"scattermapbox\":[{\"marker\":{\"colorbar\":{\"outlinewidth\":0,\"ticks\":\"\"}},\"type\":\"scattermapbox\"}],\"scatterpolargl\":[{\"marker\":{\"colorbar\":{\"outlinewidth\":0,\"ticks\":\"\"}},\"type\":\"scatterpolargl\"}],\"scatterpolar\":[{\"marker\":{\"colorbar\":{\"outlinewidth\":0,\"ticks\":\"\"}},\"type\":\"scatterpolar\"}],\"scatter\":[{\"marker\":{\"colorbar\":{\"outlinewidth\":0,\"ticks\":\"\"}},\"type\":\"scatter\"}],\"scatterternary\":[{\"marker\":{\"colorbar\":{\"outlinewidth\":0,\"ticks\":\"\"}},\"type\":\"scatterternary\"}],\"surface\":[{\"colorbar\":{\"outlinewidth\":0,\"ticks\":\"\"},\"colorscale\":[[0.0,\"#0d0887\"],[0.1111111111111111,\"#46039f\"],[0.2222222222222222,\"#7201a8\"],[0.3333333333333333,\"#9c179e\"],[0.4444444444444444,\"#bd3786\"],[0.5555555555555556,\"#d8576b\"],[0.6666666666666666,\"#ed7953\"],[0.7777777777777778,\"#fb9f3a\"],[0.8888888888888888,\"#fdca26\"],[1.0,\"#f0f921\"]],\"type\":\"surface\"}],\"table\":[{\"cells\":{\"fill\":{\"color\":\"#EBF0F8\"},\"line\":{\"color\":\"white\"}},\"header\":{\"fill\":{\"color\":\"#C8D4E3\"},\"line\":{\"color\":\"white\"}},\"type\":\"table\"}]},\"layout\":{\"annotationdefaults\":{\"arrowcolor\":\"#2a3f5f\",\"arrowhead\":0,\"arrowwidth\":1},\"autotypenumbers\":\"strict\",\"coloraxis\":{\"colorbar\":{\"outlinewidth\":0,\"ticks\":\"\"}},\"colorscale\":{\"diverging\":[[0,\"#8e0152\"],[0.1,\"#c51b7d\"],[0.2,\"#de77ae\"],[0.3,\"#f1b6da\"],[0.4,\"#fde0ef\"],[0.5,\"#f7f7f7\"],[0.6,\"#e6f5d0\"],[0.7,\"#b8e186\"],[0.8,\"#7fbc41\"],[0.9,\"#4d9221\"],[1,\"#276419\"]],\"sequential\":[[0.0,\"#0d0887\"],[0.1111111111111111,\"#46039f\"],[0.2222222222222222,\"#7201a8\"],[0.3333333333333333,\"#9c179e\"],[0.4444444444444444,\"#bd3786\"],[0.5555555555555556,\"#d8576b\"],[0.6666666666666666,\"#ed7953\"],[0.7777777777777778,\"#fb9f3a\"],[0.8888888888888888,\"#fdca26\"],[1.0,\"#f0f921\"]],\"sequentialminus\":[[0.0,\"#0d0887\"],[0.1111111111111111,\"#46039f\"],[0.2222222222222222,\"#7201a8\"],[0.3333333333333333,\"#9c179e\"],[0.4444444444444444,\"#bd3786\"],[0.5555555555555556,\"#d8576b\"],[0.6666666666666666,\"#ed7953\"],[0.7777777777777778,\"#fb9f3a\"],[0.8888888888888888,\"#fdca26\"],[1.0,\"#f0f921\"]]},\"colorway\":[\"#636efa\",\"#EF553B\",\"#00cc96\",\"#ab63fa\",\"#FFA15A\",\"#19d3f3\",\"#FF6692\",\"#B6E880\",\"#FF97FF\",\"#FECB52\"],\"font\":{\"color\":\"#2a3f5f\"},\"geo\":{\"bgcolor\":\"white\",\"lakecolor\":\"white\",\"landcolor\":\"#E5ECF6\",\"showlakes\":true,\"showland\":true,\"subunitcolor\":\"white\"},\"hoverlabel\":{\"align\":\"left\"},\"hovermode\":\"closest\",\"mapbox\":{\"style\":\"light\"},\"paper_bgcolor\":\"white\",\"plot_bgcolor\":\"#E5ECF6\",\"polar\":{\"angularaxis\":{\"gridcolor\":\"white\",\"linecolor\":\"white\",\"ticks\":\"\"},\"bgcolor\":\"#E5ECF6\",\"radialaxis\":{\"gridcolor\":\"white\",\"linecolor\":\"white\",\"ticks\":\"\"}},\"scene\":{\"xaxis\":{\"backgroundcolor\":\"#E5ECF6\",\"gridcolor\":\"white\",\"gridwidth\":2,\"linecolor\":\"white\",\"showbackground\":true,\"ticks\":\"\",\"zerolinecolor\":\"white\"},\"yaxis\":{\"backgroundcolor\":\"#E5ECF6\",\"gridcolor\":\"white\",\"gridwidth\":2,\"linecolor\":\"white\",\"showbackground\":true,\"ticks\":\"\",\"zerolinecolor\":\"white\"},\"zaxis\":{\"backgroundcolor\":\"#E5ECF6\",\"gridcolor\":\"white\",\"gridwidth\":2,\"linecolor\":\"white\",\"showbackground\":true,\"ticks\":\"\",\"zerolinecolor\":\"white\"}},\"shapedefaults\":{\"line\":{\"color\":\"#2a3f5f\"}},\"ternary\":{\"aaxis\":{\"gridcolor\":\"white\",\"linecolor\":\"white\",\"ticks\":\"\"},\"baxis\":{\"gridcolor\":\"white\",\"linecolor\":\"white\",\"ticks\":\"\"},\"bgcolor\":\"#E5ECF6\",\"caxis\":{\"gridcolor\":\"white\",\"linecolor\":\"white\",\"ticks\":\"\"}},\"title\":{\"x\":0.05},\"xaxis\":{\"automargin\":true,\"gridcolor\":\"white\",\"linecolor\":\"white\",\"ticks\":\"\",\"title\":{\"standoff\":15},\"zerolinecolor\":\"white\",\"zerolinewidth\":2},\"yaxis\":{\"automargin\":true,\"gridcolor\":\"white\",\"linecolor\":\"white\",\"ticks\":\"\",\"title\":{\"standoff\":15},\"zerolinecolor\":\"white\",\"zerolinewidth\":2}}},\"title\":{\"font\":{\"size\":30},\"text\":\"Data Split\"}},                        {\"responsive\": true}                    ).then(function(){\n",
              "                            \n",
              "var gd = document.getElementById('130e7d44-31f0-429b-943b-72474916bc35');\n",
              "var x = new MutationObserver(function (mutations, observer) {{\n",
              "        var display = window.getComputedStyle(gd).display;\n",
              "        if (!display || display === 'none') {{\n",
              "            console.log([gd, 'removed!']);\n",
              "            Plotly.purge(gd);\n",
              "            observer.disconnect();\n",
              "        }}\n",
              "}});\n",
              "\n",
              "// Listen for the removal of the full notebook cells\n",
              "var notebookContainer = gd.closest('#notebook-container');\n",
              "if (notebookContainer) {{\n",
              "    x.observe(notebookContainer, {childList: true});\n",
              "}}\n",
              "\n",
              "// Listen for the clearing of the current output cell\n",
              "var outputEl = gd.closest('.output');\n",
              "if (outputEl) {{\n",
              "    x.observe(outputEl, {childList: true});\n",
              "}}\n",
              "\n",
              "                        })                };                            </script>        </div>\n",
              "</body>\n",
              "</html>"
            ]
          },
          "metadata": {}
        }
      ]
    },
    {
      "cell_type": "markdown",
      "source": [
        "read the data set images with different extenstions and resize it and append it to array"
      ],
      "metadata": {
        "id": "L-0CQsrzZVgk"
      }
    },
    {
      "cell_type": "code",
      "source": [
        "#read images for tr_covid \n",
        "s=244\n",
        "train=[]\n",
        "\n",
        "ext=['png','jpeg','jpg']\n",
        "\n",
        "for e in ext :\n",
        "  files = gb.glob(pathname= str('/content/gdrive/MyDrive/Colab Notebooks/COVID-19 Dataset/pr/train/COVID/*.'+e))\n",
        "  for file in files: \n",
        "    image = cv2.imread(file)\n",
        "    image_array = cv2.resize(image , (s,s))\n",
        "    train.append(list(image_array))\n",
        "  print(e)\n"
      ],
      "metadata": {
        "id": "cUSAPFPE74KY",
        "colab": {
          "base_uri": "https://localhost:8080/"
        },
        "outputId": "64cbe838-4949-4f3b-a466-b75f85e4c654"
      },
      "execution_count": null,
      "outputs": [
        {
          "output_type": "stream",
          "name": "stdout",
          "text": [
            "png\n",
            "jpeg\n",
            "jpg\n"
          ]
        }
      ]
    },
    {
      "cell_type": "code",
      "source": [
        "x=np.array(train)\n",
        "print(x.shape)"
      ],
      "metadata": {
        "colab": {
          "base_uri": "https://localhost:8080/"
        },
        "id": "SqlFzl_LJ9qn",
        "outputId": "2a1f46db-6026-4dce-becf-1b453437ba68"
      },
      "execution_count": null,
      "outputs": [
        {
          "output_type": "stream",
          "name": "stdout",
          "text": [
            "(2817, 244, 244, 3)\n"
          ]
        }
      ]
    },
    {
      "cell_type": "code",
      "source": [
        "#read  images for tr_non_covid \n",
        "s=244\n",
        "train_n=[]\n",
        "\n",
        "ext=['png','jpeg','jpg']\n",
        "\n",
        "for e in ext :\n",
        "  files = gb.glob(pathname= str('/content/gdrive/MyDrive/Colab Notebooks/COVID-19 Dataset/pr/train/Non-COVID/*.'+e))\n",
        "  for file in files: \n",
        "    image = cv2.imread(file)\n",
        "    image_array = cv2.resize(image , (s,s))\n",
        "    train_n.append(list(image_array))\n",
        "  print(e)\n"
      ],
      "metadata": {
        "colab": {
          "base_uri": "https://localhost:8080/"
        },
        "id": "WmZ6nEA6NXH3",
        "outputId": "cbd1a0f0-c2ba-41b8-a089-7402db5ab514"
      },
      "execution_count": null,
      "outputs": [
        {
          "output_type": "stream",
          "name": "stdout",
          "text": [
            "png\n",
            "jpeg\n",
            "jpg\n"
          ]
        }
      ]
    },
    {
      "cell_type": "code",
      "source": [
        "x1=np.array(train_n)\n",
        "print(x1.shape)"
      ],
      "metadata": {
        "colab": {
          "base_uri": "https://localhost:8080/"
        },
        "id": "9jGvpaNjNjAW",
        "outputId": "38d3f147-04fc-4631-9f6c-3745d25ffe6c"
      },
      "execution_count": null,
      "outputs": [
        {
          "output_type": "stream",
          "name": "stdout",
          "text": [
            "(3675, 244, 244, 3)\n"
          ]
        }
      ]
    },
    {
      "cell_type": "code",
      "source": [
        "labels = np.concatenate((np.repeat('COVID',len(os.listdir(tr_covid))),np.repeat('non_covid',len(os.listdir(tr_non_covid)))))\n",
        "image_files = np.concatenate((os.listdir(tr_covid),os.listdir(tr_non_covid)))\n",
        "df = pd.DataFrame({'image_id':image_files,'class_id':labels})\n",
        "df.head()\n"
      ],
      "metadata": {
        "colab": {
          "base_uri": "https://localhost:8080/",
          "height": 206
        },
        "id": "wnEafr6FH8LR",
        "outputId": "2d9d5ce4-8710-4148-b29e-22cd3c3a7014"
      },
      "execution_count": null,
      "outputs": [
        {
          "output_type": "execute_result",
          "data": {
            "text/plain": [
              "                     image_id class_id\n",
              "0  person1488_virus_2592.jpeg    COVID\n",
              "1  person1363_virus_2346.jpeg    COVID\n",
              "2  person1376_virus_2367.jpeg    COVID\n",
              "3  person1452_virus_2484.jpeg    COVID\n",
              "4    person143_virus_289.jpeg    COVID"
            ],
            "text/html": [
              "\n",
              "  <div id=\"df-b7c55d09-226c-4645-82a5-3eab726059f9\">\n",
              "    <div class=\"colab-df-container\">\n",
              "      <div>\n",
              "<style scoped>\n",
              "    .dataframe tbody tr th:only-of-type {\n",
              "        vertical-align: middle;\n",
              "    }\n",
              "\n",
              "    .dataframe tbody tr th {\n",
              "        vertical-align: top;\n",
              "    }\n",
              "\n",
              "    .dataframe thead th {\n",
              "        text-align: right;\n",
              "    }\n",
              "</style>\n",
              "<table border=\"1\" class=\"dataframe\">\n",
              "  <thead>\n",
              "    <tr style=\"text-align: right;\">\n",
              "      <th></th>\n",
              "      <th>image_id</th>\n",
              "      <th>class_id</th>\n",
              "    </tr>\n",
              "  </thead>\n",
              "  <tbody>\n",
              "    <tr>\n",
              "      <th>0</th>\n",
              "      <td>person1488_virus_2592.jpeg</td>\n",
              "      <td>COVID</td>\n",
              "    </tr>\n",
              "    <tr>\n",
              "      <th>1</th>\n",
              "      <td>person1363_virus_2346.jpeg</td>\n",
              "      <td>COVID</td>\n",
              "    </tr>\n",
              "    <tr>\n",
              "      <th>2</th>\n",
              "      <td>person1376_virus_2367.jpeg</td>\n",
              "      <td>COVID</td>\n",
              "    </tr>\n",
              "    <tr>\n",
              "      <th>3</th>\n",
              "      <td>person1452_virus_2484.jpeg</td>\n",
              "      <td>COVID</td>\n",
              "    </tr>\n",
              "    <tr>\n",
              "      <th>4</th>\n",
              "      <td>person143_virus_289.jpeg</td>\n",
              "      <td>COVID</td>\n",
              "    </tr>\n",
              "  </tbody>\n",
              "</table>\n",
              "</div>\n",
              "      <button class=\"colab-df-convert\" onclick=\"convertToInteractive('df-b7c55d09-226c-4645-82a5-3eab726059f9')\"\n",
              "              title=\"Convert this dataframe to an interactive table.\"\n",
              "              style=\"display:none;\">\n",
              "        \n",
              "  <svg xmlns=\"http://www.w3.org/2000/svg\" height=\"24px\"viewBox=\"0 0 24 24\"\n",
              "       width=\"24px\">\n",
              "    <path d=\"M0 0h24v24H0V0z\" fill=\"none\"/>\n",
              "    <path d=\"M18.56 5.44l.94 2.06.94-2.06 2.06-.94-2.06-.94-.94-2.06-.94 2.06-2.06.94zm-11 1L8.5 8.5l.94-2.06 2.06-.94-2.06-.94L8.5 2.5l-.94 2.06-2.06.94zm10 10l.94 2.06.94-2.06 2.06-.94-2.06-.94-.94-2.06-.94 2.06-2.06.94z\"/><path d=\"M17.41 7.96l-1.37-1.37c-.4-.4-.92-.59-1.43-.59-.52 0-1.04.2-1.43.59L10.3 9.45l-7.72 7.72c-.78.78-.78 2.05 0 2.83L4 21.41c.39.39.9.59 1.41.59.51 0 1.02-.2 1.41-.59l7.78-7.78 2.81-2.81c.8-.78.8-2.07 0-2.86zM5.41 20L4 18.59l7.72-7.72 1.47 1.35L5.41 20z\"/>\n",
              "  </svg>\n",
              "      </button>\n",
              "      \n",
              "  <style>\n",
              "    .colab-df-container {\n",
              "      display:flex;\n",
              "      flex-wrap:wrap;\n",
              "      gap: 12px;\n",
              "    }\n",
              "\n",
              "    .colab-df-convert {\n",
              "      background-color: #E8F0FE;\n",
              "      border: none;\n",
              "      border-radius: 50%;\n",
              "      cursor: pointer;\n",
              "      display: none;\n",
              "      fill: #1967D2;\n",
              "      height: 32px;\n",
              "      padding: 0 0 0 0;\n",
              "      width: 32px;\n",
              "    }\n",
              "\n",
              "    .colab-df-convert:hover {\n",
              "      background-color: #E2EBFA;\n",
              "      box-shadow: 0px 1px 2px rgba(60, 64, 67, 0.3), 0px 1px 3px 1px rgba(60, 64, 67, 0.15);\n",
              "      fill: #174EA6;\n",
              "    }\n",
              "\n",
              "    [theme=dark] .colab-df-convert {\n",
              "      background-color: #3B4455;\n",
              "      fill: #D2E3FC;\n",
              "    }\n",
              "\n",
              "    [theme=dark] .colab-df-convert:hover {\n",
              "      background-color: #434B5C;\n",
              "      box-shadow: 0px 1px 3px 1px rgba(0, 0, 0, 0.15);\n",
              "      filter: drop-shadow(0px 1px 2px rgba(0, 0, 0, 0.3));\n",
              "      fill: #FFFFFF;\n",
              "    }\n",
              "  </style>\n",
              "\n",
              "      <script>\n",
              "        const buttonEl =\n",
              "          document.querySelector('#df-b7c55d09-226c-4645-82a5-3eab726059f9 button.colab-df-convert');\n",
              "        buttonEl.style.display =\n",
              "          google.colab.kernel.accessAllowed ? 'block' : 'none';\n",
              "\n",
              "        async function convertToInteractive(key) {\n",
              "          const element = document.querySelector('#df-b7c55d09-226c-4645-82a5-3eab726059f9');\n",
              "          const dataTable =\n",
              "            await google.colab.kernel.invokeFunction('convertToInteractive',\n",
              "                                                     [key], {});\n",
              "          if (!dataTable) return;\n",
              "\n",
              "          const docLinkHtml = 'Like what you see? Visit the ' +\n",
              "            '<a target=\"_blank\" href=https://colab.research.google.com/notebooks/data_table.ipynb>data table notebook</a>'\n",
              "            + ' to learn more about interactive tables.';\n",
              "          element.innerHTML = '';\n",
              "          dataTable['output_type'] = 'display_data';\n",
              "          await google.colab.output.renderOutput(dataTable, element);\n",
              "          const docLink = document.createElement('div');\n",
              "          docLink.innerHTML = docLinkHtml;\n",
              "          element.appendChild(docLink);\n",
              "        }\n",
              "      </script>\n",
              "    </div>\n",
              "  </div>\n",
              "  "
            ]
          },
          "metadata": {},
          "execution_count": 9
        }
      ]
    },
    {
      "cell_type": "code",
      "source": [
        "#read  images for valid_covid \n",
        "s=244\n",
        "valid=[]\n",
        "\n",
        "ext=['png','jpeg','jpg']\n",
        "\n",
        "for e in ext :\n",
        "  files = gb.glob(pathname= str('/content/gdrive/MyDrive/Colab Notebooks/COVID-19 Dataset/pr/val/COVID/*.'+e))\n",
        "  for file in files: \n",
        "    image = cv2.imread(file)\n",
        "    image_array = cv2.resize(image , (s,s))\n",
        "    valid.append(list(image_array))\n",
        "  print(e)\n"
      ],
      "metadata": {
        "id": "VWOWwQ2CrLSx",
        "colab": {
          "base_uri": "https://localhost:8080/"
        },
        "outputId": "3a8957bb-a3cc-40be-e4ad-33e782efb9c0"
      },
      "execution_count": null,
      "outputs": [
        {
          "output_type": "stream",
          "name": "stdout",
          "text": [
            "png\n",
            "jpeg\n",
            "jpg\n"
          ]
        }
      ]
    },
    {
      "cell_type": "code",
      "source": [
        "v=np.array(valid)\n",
        "print(v.shape)"
      ],
      "metadata": {
        "colab": {
          "base_uri": "https://localhost:8080/"
        },
        "id": "45UZhF4N2Kzi",
        "outputId": "c5438d21-173a-4220-c28f-bb68c50db880"
      },
      "execution_count": null,
      "outputs": [
        {
          "output_type": "stream",
          "name": "stdout",
          "text": [
            "(804, 244, 244, 3)\n"
          ]
        }
      ]
    },
    {
      "cell_type": "code",
      "source": [
        "#read  images for valid_non_covid \n",
        "s=244\n",
        "valid_n=[]\n",
        "\n",
        "ext=['png','jpeg','jpg']\n",
        "\n",
        "for e in ext :\n",
        "  files = gb.glob(pathname= str('/content/gdrive/MyDrive/Colab Notebooks/COVID-19 Dataset/pr/val/Non-COVID/*.'+e))\n",
        "  for file in files: \n",
        "    image = cv2.imread(file)\n",
        "    image_array = cv2.resize(image , (s,s))\n",
        "    valid_n.append(list(image_array))\n",
        "  print(e)\n"
      ],
      "metadata": {
        "colab": {
          "base_uri": "https://localhost:8080/"
        },
        "id": "d72Dkfaa2Ks1",
        "outputId": "56527782-05f3-4488-c413-673addc23fab"
      },
      "execution_count": null,
      "outputs": [
        {
          "output_type": "stream",
          "name": "stdout",
          "text": [
            "png\n",
            "jpeg\n",
            "jpg\n"
          ]
        }
      ]
    },
    {
      "cell_type": "code",
      "source": [
        "v1=np.array(valid_n)\n",
        "print(v1.shape)"
      ],
      "metadata": {
        "colab": {
          "base_uri": "https://localhost:8080/"
        },
        "id": "VompXA4e2KlY",
        "outputId": "ec2354ec-b645-413b-ec4e-6bddbf63f46f"
      },
      "execution_count": null,
      "outputs": [
        {
          "output_type": "stream",
          "name": "stdout",
          "text": [
            "(1048, 244, 244, 3)\n"
          ]
        }
      ]
    },
    {
      "cell_type": "code",
      "source": [
        "labels = np.concatenate((np.repeat('COVID',len(os.listdir(val_covid))),np.repeat('non_covid',len(os.listdir(val_non_covid)))))\n",
        "image_files = np.concatenate((os.listdir(val_covid),os.listdir(val_non_covid)))\n",
        "df = pd.DataFrame({'image_id':image_files,'class_id':labels})\n",
        "df.head()\n"
      ],
      "metadata": {
        "colab": {
          "base_uri": "https://localhost:8080/",
          "height": 206
        },
        "id": "8rXJpVJR2z2q",
        "outputId": "2a467db5-3ede-4252-b501-779a62687da8"
      },
      "execution_count": null,
      "outputs": [
        {
          "output_type": "execute_result",
          "data": {
            "text/plain": [
              "                                    image_id class_id\n",
              "0                               21982772.png    COVID\n",
              "1                               5359825d.png    COVID\n",
              "2    41591_2020_819_Fig1_HTML.webp-day10.png    COVID\n",
              "3  80446565-E090-4187-A031-9D3CEAA586C8.jpeg    COVID\n",
              "4                         COVID-19 (106).jpg    COVID"
            ],
            "text/html": [
              "\n",
              "  <div id=\"df-c9c65611-a95c-4919-9908-fc7ae7206983\">\n",
              "    <div class=\"colab-df-container\">\n",
              "      <div>\n",
              "<style scoped>\n",
              "    .dataframe tbody tr th:only-of-type {\n",
              "        vertical-align: middle;\n",
              "    }\n",
              "\n",
              "    .dataframe tbody tr th {\n",
              "        vertical-align: top;\n",
              "    }\n",
              "\n",
              "    .dataframe thead th {\n",
              "        text-align: right;\n",
              "    }\n",
              "</style>\n",
              "<table border=\"1\" class=\"dataframe\">\n",
              "  <thead>\n",
              "    <tr style=\"text-align: right;\">\n",
              "      <th></th>\n",
              "      <th>image_id</th>\n",
              "      <th>class_id</th>\n",
              "    </tr>\n",
              "  </thead>\n",
              "  <tbody>\n",
              "    <tr>\n",
              "      <th>0</th>\n",
              "      <td>21982772.png</td>\n",
              "      <td>COVID</td>\n",
              "    </tr>\n",
              "    <tr>\n",
              "      <th>1</th>\n",
              "      <td>5359825d.png</td>\n",
              "      <td>COVID</td>\n",
              "    </tr>\n",
              "    <tr>\n",
              "      <th>2</th>\n",
              "      <td>41591_2020_819_Fig1_HTML.webp-day10.png</td>\n",
              "      <td>COVID</td>\n",
              "    </tr>\n",
              "    <tr>\n",
              "      <th>3</th>\n",
              "      <td>80446565-E090-4187-A031-9D3CEAA586C8.jpeg</td>\n",
              "      <td>COVID</td>\n",
              "    </tr>\n",
              "    <tr>\n",
              "      <th>4</th>\n",
              "      <td>COVID-19 (106).jpg</td>\n",
              "      <td>COVID</td>\n",
              "    </tr>\n",
              "  </tbody>\n",
              "</table>\n",
              "</div>\n",
              "      <button class=\"colab-df-convert\" onclick=\"convertToInteractive('df-c9c65611-a95c-4919-9908-fc7ae7206983')\"\n",
              "              title=\"Convert this dataframe to an interactive table.\"\n",
              "              style=\"display:none;\">\n",
              "        \n",
              "  <svg xmlns=\"http://www.w3.org/2000/svg\" height=\"24px\"viewBox=\"0 0 24 24\"\n",
              "       width=\"24px\">\n",
              "    <path d=\"M0 0h24v24H0V0z\" fill=\"none\"/>\n",
              "    <path d=\"M18.56 5.44l.94 2.06.94-2.06 2.06-.94-2.06-.94-.94-2.06-.94 2.06-2.06.94zm-11 1L8.5 8.5l.94-2.06 2.06-.94-2.06-.94L8.5 2.5l-.94 2.06-2.06.94zm10 10l.94 2.06.94-2.06 2.06-.94-2.06-.94-.94-2.06-.94 2.06-2.06.94z\"/><path d=\"M17.41 7.96l-1.37-1.37c-.4-.4-.92-.59-1.43-.59-.52 0-1.04.2-1.43.59L10.3 9.45l-7.72 7.72c-.78.78-.78 2.05 0 2.83L4 21.41c.39.39.9.59 1.41.59.51 0 1.02-.2 1.41-.59l7.78-7.78 2.81-2.81c.8-.78.8-2.07 0-2.86zM5.41 20L4 18.59l7.72-7.72 1.47 1.35L5.41 20z\"/>\n",
              "  </svg>\n",
              "      </button>\n",
              "      \n",
              "  <style>\n",
              "    .colab-df-container {\n",
              "      display:flex;\n",
              "      flex-wrap:wrap;\n",
              "      gap: 12px;\n",
              "    }\n",
              "\n",
              "    .colab-df-convert {\n",
              "      background-color: #E8F0FE;\n",
              "      border: none;\n",
              "      border-radius: 50%;\n",
              "      cursor: pointer;\n",
              "      display: none;\n",
              "      fill: #1967D2;\n",
              "      height: 32px;\n",
              "      padding: 0 0 0 0;\n",
              "      width: 32px;\n",
              "    }\n",
              "\n",
              "    .colab-df-convert:hover {\n",
              "      background-color: #E2EBFA;\n",
              "      box-shadow: 0px 1px 2px rgba(60, 64, 67, 0.3), 0px 1px 3px 1px rgba(60, 64, 67, 0.15);\n",
              "      fill: #174EA6;\n",
              "    }\n",
              "\n",
              "    [theme=dark] .colab-df-convert {\n",
              "      background-color: #3B4455;\n",
              "      fill: #D2E3FC;\n",
              "    }\n",
              "\n",
              "    [theme=dark] .colab-df-convert:hover {\n",
              "      background-color: #434B5C;\n",
              "      box-shadow: 0px 1px 3px 1px rgba(0, 0, 0, 0.15);\n",
              "      filter: drop-shadow(0px 1px 2px rgba(0, 0, 0, 0.3));\n",
              "      fill: #FFFFFF;\n",
              "    }\n",
              "  </style>\n",
              "\n",
              "      <script>\n",
              "        const buttonEl =\n",
              "          document.querySelector('#df-c9c65611-a95c-4919-9908-fc7ae7206983 button.colab-df-convert');\n",
              "        buttonEl.style.display =\n",
              "          google.colab.kernel.accessAllowed ? 'block' : 'none';\n",
              "\n",
              "        async function convertToInteractive(key) {\n",
              "          const element = document.querySelector('#df-c9c65611-a95c-4919-9908-fc7ae7206983');\n",
              "          const dataTable =\n",
              "            await google.colab.kernel.invokeFunction('convertToInteractive',\n",
              "                                                     [key], {});\n",
              "          if (!dataTable) return;\n",
              "\n",
              "          const docLinkHtml = 'Like what you see? Visit the ' +\n",
              "            '<a target=\"_blank\" href=https://colab.research.google.com/notebooks/data_table.ipynb>data table notebook</a>'\n",
              "            + ' to learn more about interactive tables.';\n",
              "          element.innerHTML = '';\n",
              "          dataTable['output_type'] = 'display_data';\n",
              "          await google.colab.output.renderOutput(dataTable, element);\n",
              "          const docLink = document.createElement('div');\n",
              "          docLink.innerHTML = docLinkHtml;\n",
              "          element.appendChild(docLink);\n",
              "        }\n",
              "      </script>\n",
              "    </div>\n",
              "  </div>\n",
              "  "
            ]
          },
          "metadata": {},
          "execution_count": 12
        }
      ]
    },
    {
      "cell_type": "markdown",
      "source": [
        "**Data scaling, normalization and augmentation**\n",
        "Based on data inspection, images are scaled to a size of 244 by 244, normalized to values (0,1) and augmented by simple zoom and rotation to enhance the generalization."
      ],
      "metadata": {
        "id": "8umwaUdu1AkD"
      }
    },
    {
      "cell_type": "code",
      "source": [
        "from keras.preprocessing.image import ImageDataGenerator\n",
        "def process_data(batch_size = 32, image_dim = 224):\n",
        "    train_gen = ImageDataGenerator(rescale=1/256, rotation_range = 0.05,shear_range = 0.05, zoom_range=0.05,vertical_flip=True, horizontal_flip=True)\n",
        "    validation_gen = ImageDataGenerator(rescale = 1/256)\n",
        "    \n",
        "    train_gen = train_gen.flow_from_directory(\n",
        "    directory = '/content/gdrive/MyDrive/Colab Notebooks/COVID-19 Dataset/pr/train',\n",
        "    batch_size = batch_size,\n",
        "    class_mode = 'binary',\n",
        "    shuffle = True,\n",
        "    target_size = (image_dim,image_dim)\n",
        "    )\n",
        "    \n",
        "    validation_gen = validation_gen.flow_from_directory(\n",
        "    directory = '/content/gdrive/MyDrive/Colab Notebooks/COVID-19 Dataset/pr/val',\n",
        "    batch_size = batch_size,\n",
        "    class_mode = 'binary',\n",
        "    shuffle = True,\n",
        "    target_size = (image_dim,image_dim)\n",
        "    )\n",
        "    \n",
        "    return train_gen, validation_gen\n",
        "vgg_train_gen = process_data()\n",
        "vgg_validation_gen = process_data()"
      ],
      "metadata": {
        "id": "hpW-PZ3k3enH",
        "colab": {
          "base_uri": "https://localhost:8080/"
        },
        "outputId": "ea5b45ec-b872-4f25-f42a-4d386db13284"
      },
      "execution_count": null,
      "outputs": [
        {
          "output_type": "stream",
          "name": "stdout",
          "text": [
            "Found 6492 images belonging to 2 classes.\n",
            "Found 1853 images belonging to 2 classes.\n",
            "Found 6492 images belonging to 2 classes.\n",
            "Found 1853 images belonging to 2 classes.\n"
          ]
        }
      ]
    },
    {
      "cell_type": "code",
      "source": [
        "image_generator1 = ImageDataGenerator(rescale=1/256, preprocessing_function=None, horizontal_flip=False)\n",
        "image_generator2 = ImageDataGenerator(rescale=1/256, preprocessing_function = None)\n",
        "\n",
        "\n",
        "train_gen = image_generator1.flow_from_directory(batch_size=32,\n",
        "                                                    directory=r'/content/gdrive/MyDrive/Colab Notebooks/COVID-19 Dataset/pr/train',\n",
        "                                                    shuffle=True,\n",
        "                                                    target_size=(512, 512),\n",
        "                                                    class_mode='binary')\n",
        "\n",
        "validation_gen = image_generator2.flow_from_directory(batch_size=32,\n",
        "                                                   directory=r'/content/gdrive/MyDrive/Colab Notebooks/COVID-19 Dataset/pr/val',\n",
        "                                                   shuffle=True,\n",
        "                                                   target_size=(512, 512),\n",
        "                                                   class_mode='binary')"
      ],
      "metadata": {
        "colab": {
          "base_uri": "https://localhost:8080/"
        },
        "id": "mlNjDjRc4F9l",
        "outputId": "107a3eb3-a9e2-41a9-e9df-1b23f03d3f08"
      },
      "execution_count": null,
      "outputs": [
        {
          "output_type": "stream",
          "name": "stdout",
          "text": [
            "Found 6492 images belonging to 2 classes.\n",
            "Found 1853 images belonging to 2 classes.\n"
          ]
        }
      ]
    },
    {
      "cell_type": "code",
      "source": [
        "METRICS = [\n",
        "        'accuracy',\n",
        "        tf.keras.metrics.Precision(name='precision'),\n",
        "        tf.keras.metrics.Recall(name='recall')\n",
        "    ]"
      ],
      "metadata": {
        "id": "ngMy_Got4RQ2"
      },
      "execution_count": null,
      "outputs": []
    },
    {
      "cell_type": "code",
      "source": [
        "URL = r'https://tfhub.dev/google/imagenet/resnet_v2_152/feature_vector/4'\n",
        "\n",
        "feature_extractor = hub.KerasLayer(URL, input_shape=(224,224,3))\n",
        "feature_extractor.trainable = False\n",
        "\n",
        "linear_model = model = tf.keras.models.Sequential([    \n",
        "    feature_extractor,\n",
        "    tf.keras.layers.Dense(1, activation='linear'), \n",
        "    tf.keras.layers.Dense(1,activation='sigmoid')])\n",
        "linear_model.compile(Adam(lr=.001), loss = 'binary_crossentropy', metrics =[METRICS])\n",
        "linear_model.summary()"
      ],
      "metadata": {
        "id": "5VCRgd0Q8eO5"
      },
      "execution_count": null,
      "outputs": []
    },
    {
      "cell_type": "code",
      "source": [
        "linear_checkpoint_callback = ModelCheckpoint('linear_model_augs.h5', monitor='val_accuracy', verbose = True, save_best_only = True, save_weights_only = False, mode= 'max')\n",
        "linear_early_stopping_callback = EarlyStopping(monitor='val_accuracy', patience=5)\n",
        "\n",
        "with tf.device('/GPU:0'):\n",
        "    linear_fit = linear_model.fit_generator(generator=train_gen,\n",
        "                              validation_data=validation_gen,\n",
        "                              steps_per_epoch= (train_gen.samples // 32),\n",
        "                              validation_steps = (validation_gen.samples // 32),\n",
        "                              use_multiprocessing=True,\n",
        "                              workers=-1,\n",
        "                              verbose = True,\n",
        "                              epochs = 20,\n",
        "                              callbacks = [linear_checkpoint_callback, linear_early_stopping_callback])"
      ],
      "metadata": {
        "id": "ojO80DjQ-983",
        "colab": {
          "base_uri": "https://localhost:8080/"
        },
        "outputId": "1e66a8d5-3941-4946-a4ac-28048dcfe14e"
      },
      "execution_count": null,
      "outputs": [
        {
          "output_type": "stream",
          "name": "stderr",
          "text": [
            "/usr/local/lib/python3.7/dist-packages/ipykernel_launcher.py:13: UserWarning: `Model.fit_generator` is deprecated and will be removed in a future version. Please use `Model.fit`, which supports generators.\n",
            "  del sys.path[0]\n"
          ]
        },
        {
          "output_type": "stream",
          "name": "stdout",
          "text": [
            "Epoch 1/20\n",
            "202/202 [==============================] - ETA: 0s - loss: 0.3894 - accuracy: 0.8331 - precision: 0.8440 - recall: 0.8656\n",
            "Epoch 1: val_accuracy improved from -inf to 0.89583, saving model to linear_model_augs.h5\n",
            "202/202 [==============================] - 459s 2s/step - loss: 0.3894 - accuracy: 0.8331 - precision: 0.8440 - recall: 0.8656 - val_loss: 0.2849 - val_accuracy: 0.8958 - val_precision: 0.9086 - val_recall: 0.9069\n",
            "Epoch 2/20\n",
            "202/202 [==============================] - ETA: 0s - loss: 0.2609 - accuracy: 0.8991 - precision: 0.9210 - recall: 0.8989\n",
            "Epoch 2: val_accuracy improved from 0.89583 to 0.91283, saving model to linear_model_augs.h5\n",
            "202/202 [==============================] - 433s 2s/step - loss: 0.2609 - accuracy: 0.8991 - precision: 0.9210 - recall: 0.8989 - val_loss: 0.2377 - val_accuracy: 0.9128 - val_precision: 0.9340 - val_recall: 0.9094\n",
            "Epoch 3/20\n",
            "202/202 [==============================] - ETA: 0s - loss: 0.2226 - accuracy: 0.9200 - precision: 0.9355 - recall: 0.9224\n",
            "Epoch 3: val_accuracy improved from 0.91283 to 0.91721, saving model to linear_model_augs.h5\n",
            "202/202 [==============================] - 429s 2s/step - loss: 0.2226 - accuracy: 0.9200 - precision: 0.9355 - recall: 0.9224 - val_loss: 0.2282 - val_accuracy: 0.9172 - val_precision: 0.9572 - val_recall: 0.8930\n",
            "Epoch 4/20\n",
            "202/202 [==============================] - ETA: 0s - loss: 0.1978 - accuracy: 0.9313 - precision: 0.9467 - recall: 0.9312\n",
            "Epoch 4: val_accuracy improved from 0.91721 to 0.92818, saving model to linear_model_augs.h5\n",
            "202/202 [==============================] - 436s 2s/step - loss: 0.1978 - accuracy: 0.9313 - precision: 0.9467 - recall: 0.9312 - val_loss: 0.1988 - val_accuracy: 0.9282 - val_precision: 0.9284 - val_recall: 0.9455\n",
            "Epoch 5/20\n",
            "202/202 [==============================] - ETA: 0s - loss: 0.1779 - accuracy: 0.9406 - precision: 0.9517 - recall: 0.9429\n",
            "Epoch 5: val_accuracy improved from 0.92818 to 0.93586, saving model to linear_model_augs.h5\n",
            "202/202 [==============================] - 431s 2s/step - loss: 0.1779 - accuracy: 0.9406 - precision: 0.9517 - recall: 0.9429 - val_loss: 0.1838 - val_accuracy: 0.9359 - val_precision: 0.9534 - val_recall: 0.9322\n",
            "Epoch 6/20\n",
            "202/202 [==============================] - ETA: 0s - loss: 0.1634 - accuracy: 0.9449 - precision: 0.9555 - recall: 0.9467\n",
            "Epoch 6: val_accuracy improved from 0.93586 to 0.93860, saving model to linear_model_augs.h5\n",
            "202/202 [==============================] - 434s 2s/step - loss: 0.1634 - accuracy: 0.9449 - precision: 0.9555 - recall: 0.9467 - val_loss: 0.1733 - val_accuracy: 0.9386 - val_precision: 0.9501 - val_recall: 0.9409\n",
            "Epoch 7/20\n",
            "202/202 [==============================] - ETA: 0s - loss: 0.1500 - accuracy: 0.9495 - precision: 0.9577 - recall: 0.9529\n",
            "Epoch 7: val_accuracy improved from 0.93860 to 0.94079, saving model to linear_model_augs.h5\n",
            "202/202 [==============================] - 430s 2s/step - loss: 0.1500 - accuracy: 0.9495 - precision: 0.9577 - recall: 0.9529 - val_loss: 0.1672 - val_accuracy: 0.9408 - val_precision: 0.9501 - val_recall: 0.9446\n",
            "Epoch 8/20\n",
            "202/202 [==============================] - ETA: 0s - loss: 0.1399 - accuracy: 0.9568 - precision: 0.9648 - recall: 0.9587\n",
            "Epoch 8: val_accuracy did not improve from 0.94079\n",
            "202/202 [==============================] - 450s 2s/step - loss: 0.1399 - accuracy: 0.9568 - precision: 0.9648 - recall: 0.9587 - val_loss: 0.1625 - val_accuracy: 0.9386 - val_precision: 0.9571 - val_recall: 0.9329\n",
            "Epoch 9/20\n",
            "202/202 [==============================] - ETA: 0s - loss: 0.1325 - accuracy: 0.9571 - precision: 0.9648 - recall: 0.9593\n",
            "Epoch 9: val_accuracy improved from 0.94079 to 0.94792, saving model to linear_model_augs.h5\n",
            "202/202 [==============================] - 432s 2s/step - loss: 0.1325 - accuracy: 0.9571 - precision: 0.9648 - recall: 0.9593 - val_loss: 0.1565 - val_accuracy: 0.9479 - val_precision: 0.9526 - val_recall: 0.9554\n",
            "Epoch 10/20\n",
            "202/202 [==============================] - ETA: 0s - loss: 0.1236 - accuracy: 0.9615 - precision: 0.9699 - recall: 0.9617\n",
            "Epoch 10: val_accuracy did not improve from 0.94792\n",
            "202/202 [==============================] - 432s 2s/step - loss: 0.1236 - accuracy: 0.9615 - precision: 0.9699 - recall: 0.9617 - val_loss: 0.1697 - val_accuracy: 0.9452 - val_precision: 0.9322 - val_recall: 0.9738\n",
            "Epoch 11/20\n",
            "202/202 [==============================] - ETA: 0s - loss: 0.1195 - accuracy: 0.9630 - precision: 0.9708 - recall: 0.9636\n",
            "Epoch 11: val_accuracy improved from 0.94792 to 0.94846, saving model to linear_model_augs.h5\n",
            "202/202 [==============================] - 432s 2s/step - loss: 0.1195 - accuracy: 0.9630 - precision: 0.9708 - recall: 0.9636 - val_loss: 0.1589 - val_accuracy: 0.9485 - val_precision: 0.9408 - val_recall: 0.9700\n",
            "Epoch 12/20\n",
            "202/202 [==============================] - ETA: 0s - loss: 0.1147 - accuracy: 0.9636 - precision: 0.9693 - recall: 0.9664\n",
            "Epoch 12: val_accuracy did not improve from 0.94846\n",
            "202/202 [==============================] - 431s 2s/step - loss: 0.1147 - accuracy: 0.9636 - precision: 0.9693 - recall: 0.9664 - val_loss: 0.1524 - val_accuracy: 0.9446 - val_precision: 0.9455 - val_recall: 0.9574\n",
            "Epoch 13/20\n",
            "202/202 [==============================] - ETA: 0s - loss: 0.1101 - accuracy: 0.9655 - precision: 0.9727 - recall: 0.9661\n",
            "Epoch 13: val_accuracy did not improve from 0.94846\n",
            "202/202 [==============================] - 429s 2s/step - loss: 0.1101 - accuracy: 0.9655 - precision: 0.9727 - recall: 0.9661 - val_loss: 0.1497 - val_accuracy: 0.9474 - val_precision: 0.9423 - val_recall: 0.9661\n",
            "Epoch 14/20\n",
            "202/202 [==============================] - ETA: 0s - loss: 0.1051 - accuracy: 0.9680 - precision: 0.9736 - recall: 0.9696\n",
            "Epoch 14: val_accuracy did not improve from 0.94846\n",
            "202/202 [==============================] - 426s 2s/step - loss: 0.1051 - accuracy: 0.9680 - precision: 0.9736 - recall: 0.9696 - val_loss: 0.1495 - val_accuracy: 0.9468 - val_precision: 0.9422 - val_recall: 0.9651\n",
            "Epoch 15/20\n",
            "202/202 [==============================] - ETA: 0s - loss: 0.0997 - accuracy: 0.9689 - precision: 0.9750 - recall: 0.9699\n",
            "Epoch 15: val_accuracy did not improve from 0.94846\n",
            "202/202 [==============================] - 426s 2s/step - loss: 0.0997 - accuracy: 0.9689 - precision: 0.9750 - recall: 0.9699 - val_loss: 0.1503 - val_accuracy: 0.9457 - val_precision: 0.9479 - val_recall: 0.9562\n",
            "Epoch 16/20\n",
            "202/202 [==============================] - ETA: 0s - loss: 0.0990 - accuracy: 0.9700 - precision: 0.9756 - recall: 0.9713\n",
            "Epoch 16: val_accuracy did not improve from 0.94846\n",
            "202/202 [==============================] - 430s 2s/step - loss: 0.0990 - accuracy: 0.9700 - precision: 0.9756 - recall: 0.9713 - val_loss: 0.1502 - val_accuracy: 0.9457 - val_precision: 0.9570 - val_recall: 0.9468\n"
          ]
        }
      ]
    },
    {
      "cell_type": "code",
      "source": [
        "plt.plot(np.array(linear_fit.history['loss']),color='blue')\n",
        "plt.plot(np.array(linear_fit.history['val_loss']),color='red')\n",
        "plt.title('linear model loss')\n",
        "plt.ylabel('loss')\n",
        "plt.xlabel('epoch')\n",
        "plt.legend(['train', 'validation'], loc='upper left')\n",
        "plt.show()"
      ],
      "metadata": {
        "colab": {
          "base_uri": "https://localhost:8080/",
          "height": 295
        },
        "id": "Vuff345zsJKh",
        "outputId": "78571083-2556-4c86-fdd9-909eee7e2a1a"
      },
      "execution_count": null,
      "outputs": [
        {
          "output_type": "display_data",
          "data": {
            "text/plain": [
              "<Figure size 432x288 with 1 Axes>"
            ],
            "image/png": "[encoded data removed]"
          },
          "metadata": {
            "needs_background": "light"
          }
        }
      ]
    },
    {
      "cell_type": "code",
      "source": [
        "plt.plot(np.array(linear_fit.history['accuracy']),color='blue')\n",
        "plt.plot(np.array(linear_fit.history['val_accuracy']),color='red')\n",
        "plt.title('linear model accuracy')\n",
        "plt.ylabel('accuracy')\n",
        "plt.xlabel('epoch')\n",
        "plt.legend(['train', 'validation'], loc='upper left')\n",
        "plt.show()"
      ],
      "metadata": {
        "colab": {
          "base_uri": "https://localhost:8080/",
          "height": 295
        },
        "id": "LJgbF6Ii6sl7",
        "outputId": "2567bd83-7094-4270-fa71-981843788875"
      },
      "execution_count": null,
      "outputs": [
        {
          "output_type": "display_data",
          "data": {
            "text/plain": [
              "<Figure size 432x288 with 1 Axes>"
            ],
            "image/png": "[encoded data removed]"
          },
          "metadata": {
            "needs_background": "light"
          }
        }
      ]
    },
    {
      "cell_type": "code",
      "source": [
        "URL = r'https://tfhub.dev/google/imagenet/resnet_v2_152/feature_vector/4'\n",
        "\n",
        "feature_extractor = hub.KerasLayer(URL, input_shape=(224,224,3))\n",
        "feature_extractor.trainable = False\n",
        "\n",
        "deep_model = tf.keras.models.Sequential([    \n",
        "    feature_extractor,\n",
        "    tf.keras.layers.Dense(64, activation='relu'),\n",
        "    tf.keras.layers.Dense(16, activation='relu'),\n",
        "    tf.keras.layers.Dense(8, activation='relu'),\n",
        "    tf.keras.layers.Dense(1,activation='sigmoid')    \n",
        "])\n",
        "deep_model.compile(optimizer=tf.optimizers.Adam(learning_rate=0.001), loss='binary_crossentropy', metrics=METRICS )\n",
        "deep_model.summary()"
      ],
      "metadata": {
        "colab": {
          "base_uri": "https://localhost:8080/"
        },
        "id": "HlEURN628O-I",
        "outputId": "acb5fda1-4958-4fca-c80e-89eac8243aef"
      },
      "execution_count": null,
      "outputs": [
        {
          "output_type": "stream",
          "name": "stdout",
          "text": [
            "Model: \"sequential\"\n",
            "_________________________________________________________________\n",
            " Layer (type)                Output Shape              Param #   \n",
            "=================================================================\n",
            " keras_layer (KerasLayer)    (None, 2048)              58331648  \n",
            "                                                                 \n",
            " dense (Dense)               (None, 64)                131136    \n",
            "                                                                 \n",
            " dense_1 (Dense)             (None, 16)                1040      \n",
            "                                                                 \n",
            " dense_2 (Dense)             (None, 8)                 136       \n",
            "                                                                 \n",
            " dense_3 (Dense)             (None, 1)                 9         \n",
            "                                                                 \n",
            "=================================================================\n",
            "Total params: 58,463,969\n",
            "Trainable params: 132,321\n",
            "Non-trainable params: 58,331,648\n",
            "_________________________________________________________________\n"
          ]
        }
      ]
    },
    {
      "cell_type": "code",
      "source": [
        "deep_checkpoint_callback = ModelCheckpoint('ResNet152_model_augs.h5', monitor='val_accuracy', verbose = True, save_best_only = True, save_weights_only = False, mode= 'max')\n",
        "deep_early_stopping_callback = EarlyStopping(monitor='val_accuracy', patience=5)\n",
        "\n",
        "with tf.device('/GPU:0'):\n",
        "    deep_fit = linear_model.fit_generator(generator=train_gen,\n",
        "                              validation_data=validation_gen,\n",
        "                              steps_per_epoch= (train_gen.samples // 32),\n",
        "                              validation_steps = (validation_gen.samples // 32),\n",
        "                              use_multiprocessing=True,\n",
        "                              workers=-1,\n",
        "                              verbose = True,\n",
        "                              epochs = 20,\n",
        "                              callbacks = [deep_checkpoint_callback, deep_early_stopping_callback])"
      ],
      "metadata": {
        "colab": {
          "base_uri": "https://localhost:8080/"
        },
        "id": "s0uvR5OMC2Jx",
        "outputId": "2744054a-74f3-4505-f8fa-3453466e5ad8"
      },
      "execution_count": null,
      "outputs": [
        {
          "output_type": "stream",
          "name": "stderr",
          "text": [
            "/usr/local/lib/python3.7/dist-packages/ipykernel_launcher.py:13: UserWarning: `Model.fit_generator` is deprecated and will be removed in a future version. Please use `Model.fit`, which supports generators.\n",
            "  del sys.path[0]\n"
          ]
        },
        {
          "output_type": "stream",
          "name": "stdout",
          "text": [
            "Epoch 1/20\n",
            "202/202 [==============================] - ETA: 0s - loss: 0.3971 - accuracy: 0.8362 - precision: 0.8406 - recall: 0.8769\n",
            "Epoch 1: val_accuracy improved from -inf to 0.89035, saving model to ResNet152_model_augs.h5\n",
            "202/202 [==============================] - 488s 2s/step - loss: 0.3971 - accuracy: 0.8362 - precision: 0.8406 - recall: 0.8769 - val_loss: 0.2980 - val_accuracy: 0.8904 - val_precision: 0.9030 - val_recall: 0.9030\n",
            "Epoch 2/20\n",
            "202/202 [==============================] - ETA: 0s - loss: 0.2735 - accuracy: 0.8893 - precision: 0.9133 - recall: 0.8891\n",
            "Epoch 2: val_accuracy improved from 0.89035 to 0.90406, saving model to ResNet152_model_augs.h5\n",
            "202/202 [==============================] - 456s 2s/step - loss: 0.2735 - accuracy: 0.8893 - precision: 0.9133 - recall: 0.8891 - val_loss: 0.2496 - val_accuracy: 0.9041 - val_precision: 0.9113 - val_recall: 0.9193\n",
            "Epoch 3/20\n",
            "202/202 [==============================] - ETA: 0s - loss: 0.2320 - accuracy: 0.9144 - precision: 0.9311 - recall: 0.9166\n",
            "Epoch 3: val_accuracy improved from 0.90406 to 0.91776, saving model to ResNet152_model_augs.h5\n",
            "202/202 [==============================] - 458s 2s/step - loss: 0.2320 - accuracy: 0.9144 - precision: 0.9311 - recall: 0.9166 - val_loss: 0.2214 - val_accuracy: 0.9178 - val_precision: 0.9313 - val_recall: 0.9223\n",
            "Epoch 4/20\n",
            "202/202 [==============================] - ETA: 0s - loss: 0.2065 - accuracy: 0.9251 - precision: 0.9405 - recall: 0.9260\n",
            "Epoch 4: val_accuracy improved from 0.91776 to 0.92654, saving model to ResNet152_model_augs.h5\n",
            "202/202 [==============================] - 458s 2s/step - loss: 0.2065 - accuracy: 0.9251 - precision: 0.9405 - recall: 0.9260 - val_loss: 0.2033 - val_accuracy: 0.9265 - val_precision: 0.9481 - val_recall: 0.9205\n",
            "Epoch 5/20\n",
            "202/202 [==============================] - ETA: 0s - loss: 0.1880 - accuracy: 0.9354 - precision: 0.9478 - recall: 0.9377\n",
            "Epoch 5: val_accuracy improved from 0.92654 to 0.93092, saving model to ResNet152_model_augs.h5\n",
            "202/202 [==============================] - 462s 2s/step - loss: 0.1880 - accuracy: 0.9354 - precision: 0.9478 - recall: 0.9377 - val_loss: 0.1922 - val_accuracy: 0.9309 - val_precision: 0.9388 - val_recall: 0.9388\n",
            "Epoch 6/20\n",
            "202/202 [==============================] - ETA: 0s - loss: 0.1730 - accuracy: 0.9410 - precision: 0.9532 - recall: 0.9420\n",
            "Epoch 6: val_accuracy improved from 0.93092 to 0.93366, saving model to ResNet152_model_augs.h5\n",
            "202/202 [==============================] - 460s 2s/step - loss: 0.1730 - accuracy: 0.9410 - precision: 0.9532 - recall: 0.9420 - val_loss: 0.1816 - val_accuracy: 0.9337 - val_precision: 0.9479 - val_recall: 0.9342\n",
            "Epoch 7/20\n",
            "202/202 [==============================] - ETA: 0s - loss: 0.1592 - accuracy: 0.9486 - precision: 0.9591 - recall: 0.9497\n",
            "Epoch 7: val_accuracy improved from 0.93366 to 0.93969, saving model to ResNet152_model_augs.h5\n",
            "202/202 [==============================] - 461s 2s/step - loss: 0.1592 - accuracy: 0.9486 - precision: 0.9591 - recall: 0.9497 - val_loss: 0.1744 - val_accuracy: 0.9397 - val_precision: 0.9423 - val_recall: 0.9515\n",
            "Epoch 8/20\n",
            "202/202 [==============================] - ETA: 0s - loss: 0.1500 - accuracy: 0.9528 - precision: 0.9622 - recall: 0.9540\n",
            "Epoch 8: val_accuracy improved from 0.93969 to 0.94298, saving model to ResNet152_model_augs.h5\n",
            "202/202 [==============================] - 458s 2s/step - loss: 0.1500 - accuracy: 0.9528 - precision: 0.9622 - recall: 0.9540 - val_loss: 0.1668 - val_accuracy: 0.9430 - val_precision: 0.9522 - val_recall: 0.9467\n",
            "Epoch 9/20\n",
            "202/202 [==============================] - ETA: 0s - loss: 0.1406 - accuracy: 0.9554 - precision: 0.9639 - recall: 0.9570\n",
            "Epoch 9: val_accuracy did not improve from 0.94298\n",
            "202/202 [==============================] - 458s 2s/step - loss: 0.1406 - accuracy: 0.9554 - precision: 0.9639 - recall: 0.9570 - val_loss: 0.1731 - val_accuracy: 0.9424 - val_precision: 0.9320 - val_recall: 0.9690\n",
            "Epoch 10/20\n",
            "202/202 [==============================] - ETA: 0s - loss: 0.1336 - accuracy: 0.9579 - precision: 0.9666 - recall: 0.9587\n",
            "Epoch 10: val_accuracy improved from 0.94298 to 0.94572, saving model to ResNet152_model_augs.h5\n",
            "202/202 [==============================] - 459s 2s/step - loss: 0.1336 - accuracy: 0.9579 - precision: 0.9666 - recall: 0.9587 - val_loss: 0.1561 - val_accuracy: 0.9457 - val_precision: 0.9448 - val_recall: 0.9603\n",
            "Epoch 11/20\n",
            "202/202 [==============================] - ETA: 0s - loss: 0.1272 - accuracy: 0.9602 - precision: 0.9699 - recall: 0.9595\n",
            "Epoch 11: val_accuracy did not improve from 0.94572\n",
            "202/202 [==============================] - 457s 2s/step - loss: 0.1272 - accuracy: 0.9602 - precision: 0.9699 - recall: 0.9595 - val_loss: 0.1602 - val_accuracy: 0.9435 - val_precision: 0.9632 - val_recall: 0.9362\n",
            "Epoch 12/20\n",
            "202/202 [==============================] - ETA: 0s - loss: 0.1199 - accuracy: 0.9622 - precision: 0.9708 - recall: 0.9623\n",
            "Epoch 12: val_accuracy improved from 0.94572 to 0.94627, saving model to ResNet152_model_augs.h5\n",
            "202/202 [==============================] - 457s 2s/step - loss: 0.1199 - accuracy: 0.9622 - precision: 0.9708 - recall: 0.9623 - val_loss: 0.1563 - val_accuracy: 0.9463 - val_precision: 0.9438 - val_recall: 0.9621\n",
            "Epoch 13/20\n",
            "202/202 [==============================] - ETA: 0s - loss: 0.1138 - accuracy: 0.9644 - precision: 0.9712 - recall: 0.9659\n",
            "Epoch 13: val_accuracy improved from 0.94627 to 0.94846, saving model to ResNet152_model_augs.h5\n",
            "202/202 [==============================] - 457s 2s/step - loss: 0.1138 - accuracy: 0.9644 - precision: 0.9712 - recall: 0.9659 - val_loss: 0.1513 - val_accuracy: 0.9485 - val_precision: 0.9516 - val_recall: 0.9572\n",
            "Epoch 14/20\n",
            "202/202 [==============================] - ETA: 0s - loss: 0.1089 - accuracy: 0.9669 - precision: 0.9731 - recall: 0.9683\n",
            "Epoch 14: val_accuracy did not improve from 0.94846\n",
            "202/202 [==============================] - 457s 2s/step - loss: 0.1089 - accuracy: 0.9669 - precision: 0.9731 - recall: 0.9683 - val_loss: 0.1579 - val_accuracy: 0.9435 - val_precision: 0.9330 - val_recall: 0.9700\n",
            "Epoch 15/20\n",
            "202/202 [==============================] - ETA: 0s - loss: 0.1049 - accuracy: 0.9669 - precision: 0.9738 - recall: 0.9674\n",
            "Epoch 15: val_accuracy did not improve from 0.94846\n",
            "202/202 [==============================] - 457s 2s/step - loss: 0.1049 - accuracy: 0.9669 - precision: 0.9738 - recall: 0.9674 - val_loss: 0.1638 - val_accuracy: 0.9424 - val_precision: 0.9263 - val_recall: 0.9757\n",
            "Epoch 16/20\n",
            "202/202 [==============================] - ETA: 0s - loss: 0.1047 - accuracy: 0.9676 - precision: 0.9736 - recall: 0.9691\n",
            "Epoch 16: val_accuracy improved from 0.94846 to 0.95121, saving model to ResNet152_model_augs.h5\n",
            "202/202 [==============================] - 458s 2s/step - loss: 0.1047 - accuracy: 0.9676 - precision: 0.9736 - recall: 0.9691 - val_loss: 0.1508 - val_accuracy: 0.9512 - val_precision: 0.9589 - val_recall: 0.9543\n",
            "Epoch 17/20\n",
            "202/202 [==============================] - ETA: 0s - loss: 0.1002 - accuracy: 0.9676 - precision: 0.9734 - recall: 0.9694\n",
            "Epoch 17: val_accuracy improved from 0.95121 to 0.95175, saving model to ResNet152_model_augs.h5\n",
            "202/202 [==============================] - 499s 2s/step - loss: 0.1002 - accuracy: 0.9676 - precision: 0.9734 - recall: 0.9694 - val_loss: 0.1479 - val_accuracy: 0.9518 - val_precision: 0.9528 - val_recall: 0.9621\n",
            "Epoch 18/20\n",
            "202/202 [==============================] - ETA: 0s - loss: 0.0950 - accuracy: 0.9723 - precision: 0.9780 - recall: 0.9729\n",
            "Epoch 18: val_accuracy did not improve from 0.95175\n",
            "202/202 [==============================] - 458s 2s/step - loss: 0.0950 - accuracy: 0.9723 - precision: 0.9780 - recall: 0.9729 - val_loss: 0.1758 - val_accuracy: 0.9424 - val_precision: 0.9224 - val_recall: 0.9806\n",
            "Epoch 19/20\n",
            "202/202 [==============================] - ETA: 0s - loss: 0.0926 - accuracy: 0.9718 - precision: 0.9772 - recall: 0.9730\n",
            "Epoch 19: val_accuracy did not improve from 0.95175\n",
            "202/202 [==============================] - 456s 2s/step - loss: 0.0926 - accuracy: 0.9718 - precision: 0.9772 - recall: 0.9730 - val_loss: 0.1436 - val_accuracy: 0.9501 - val_precision: 0.9556 - val_recall: 0.9565\n",
            "Epoch 20/20\n",
            "202/202 [==============================] - ETA: 0s - loss: 0.0863 - accuracy: 0.9754 - precision: 0.9810 - recall: 0.9754\n",
            "Epoch 20: val_accuracy did not improve from 0.95175\n",
            "202/202 [==============================] - 456s 2s/step - loss: 0.0863 - accuracy: 0.9754 - precision: 0.9810 - recall: 0.9754 - val_loss: 0.1484 - val_accuracy: 0.9518 - val_precision: 0.9566 - val_recall: 0.9585\n"
          ]
        }
      ]
    },
    {
      "cell_type": "code",
      "source": [
        "plt.plot(np.array(deep_fit.history['accuracy']),color='blue')\n",
        "plt.plot(np.array(deep_fit.history['val_accuracy']),color='red')\n",
        "plt.title('Deep model (ResNet152) accuracy')\n",
        "plt.ylabel('accuracy')\n",
        "plt.xlabel('epoch')\n",
        "plt.legend(['train', 'validation'], loc='upper left')\n",
        "plt.show()"
      ],
      "metadata": {
        "colab": {
          "base_uri": "https://localhost:8080/",
          "height": 295
        },
        "id": "hia3_ePi-boZ",
        "outputId": "fbc6b1dd-e383-4ffe-cd01-285727a1be97"
      },
      "execution_count": null,
      "outputs": [
        {
          "output_type": "display_data",
          "data": {
            "text/plain": [
              "<Figure size 432x288 with 1 Axes>"
            ],
            "image/png": "[encoded data removed]"
          },
          "metadata": {
            "needs_background": "light"
          }
        }
      ]
    },
    {
      "cell_type": "code",
      "source": [
        "plt.plot(np.array(deep_fit.history['loss']),color='blue')\n",
        "plt.plot(np.array(deep_fit.history['val_loss']),color='red')\n",
        "plt.title('Deep model (ResNet152) loss')\n",
        "plt.ylabel('loss')\n",
        "plt.xlabel('epoch')\n",
        "plt.legend(['train', 'validation'], loc='upper left')\n",
        "plt.show()"
      ],
      "metadata": {
        "id": "EOT3HHYGDhxL",
        "colab": {
          "base_uri": "https://localhost:8080/",
          "height": 295
        },
        "outputId": "69639970-e659-4a19-9944-2cab6302c0d4"
      },
      "execution_count": null,
      "outputs": [
        {
          "output_type": "display_data",
          "data": {
            "text/plain": [
              "<Figure size 432x288 with 1 Axes>"
            ],
            "image/png": "[encoded data removed]"
          },
          "metadata": {
            "needs_background": "light"
          }
        }
      ]
    },
    {
      "cell_type": "code",
      "source": [
        "model=load_model('/content/gdrive/MyDrive/Colab Notebooks/model /ResNet152_model_augs.h5',custom_objects={'KerasLayer':hub.KerasLayer})"
      ],
      "metadata": {
        "id": "mik_wI7Wj1wn"
      },
      "execution_count": null,
      "outputs": []
    },
    {
      "cell_type": "code",
      "source": [
        "image_path='/content/43055_2020_296_Fig11_HTML.png'\n",
        "test_image = image.load_img(image_path,target_size=(244,244))\n",
        "test_image = image.img_to_array(test_image)\n",
        "test_image = np.expand_dims(test_image, axis=0)\n",
        "\n",
        "result = model.predict(test_image)\n",
        "print(result)\n",
        "if result[0][0]==1:\n",
        "  prediction='covid'\n",
        "  print(prediction)\n",
        "else:\n",
        "  prediction='non_covid'\n",
        "  print(prediction)\n",
        "\n"
      ],
      "metadata": {
        "colab": {
          "base_uri": "https://localhost:8080/"
        },
        "id": "jGh8eRCD5lfk",
        "outputId": "fc03dff3-7187-4745-aefe-e5cb508f026e"
      },
      "execution_count": null,
      "outputs": [
        {
          "output_type": "stream",
          "name": "stdout",
          "text": [
            "[[1.]]\n",
            "covid\n"
          ]
        }
      ]
    },
    {
      "cell_type": "code",
      "source": [
        "image_path=input('enter the path of chest')\n",
        "test_image = image.load_img(image_path,target_size=(244,244))\n",
        "test_image = image.img_to_array(test_image)\n",
        "test_image = np.expand_dims(test_image, axis=0)\n",
        "\n",
        "result = model.predict(test_image)\n",
        "print(result)\n",
        "\n",
        "if result[0][0]==1:\n",
        "  prediction='covid'\n",
        "  print(prediction)\n",
        "else:\n",
        "  prediction='non_covid'\n",
        "  print(prediction)\n",
        "\n",
        "plt.imshow(test_image)\n",
        "plt.axis('on')\n",
        "plt.title(prediction)\n",
        "\n"
      ],
      "metadata": {
        "id": "37R3_SRTbHIs"
      },
      "execution_count": null,
      "outputs": []
    },
    {
      "cell_type": "code",
      "source": [
        "# retrieve:    \n",
        "f = open('/content/gdrive/MyDrive/Colab Notebooks/model /ResNet152_model_augs_history.pickle', 'rb')\n",
        "history = pickle.load(f)\n",
        "f.close()"
      ],
      "metadata": {
        "id": "AGqkuURCwsdB"
      },
      "execution_count": null,
      "outputs": []
    },
    {
      "cell_type": "code",
      "source": [
        ""
      ],
      "metadata": {
        "id": "xiO9tz6p63YQ"
      },
      "execution_count": null,
      "outputs": []
    }
  ]
}